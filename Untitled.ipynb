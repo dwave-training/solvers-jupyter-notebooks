{
 "cells": [
  {
   "cell_type": "markdown",
   "id": "5a26b3ed-02e3-4739-a3d6-15e822de8c96",
   "metadata": {},
   "source": [
    "# Multi-Knapsack\n",
    "- place items in multiple knapsacks\n",
    "- maximize the total value of the items carried in knapsacks\n",
    "- do not go over the capacity of any of the knapsacks"
   ]
  },
  {
   "cell_type": "code",
   "execution_count": 21,
   "id": "5807a068-0f69-4731-a65b-9c90de7c9c55",
   "metadata": {},
   "outputs": [
    {
     "name": "stdout",
     "output_type": "stream",
     "text": [
      "35\n"
     ]
    }
   ],
   "source": [
    "from dimod import DiscreteQuadraticModel\n",
    "\n",
    "values = [1, 3, 5, 7, 9, 10]\n",
    "weights = [1, 3, 6, 7, 8, 10]\n",
    "\n",
    "capacity = 10\n",
    "num_knapsacks = 3\n",
    "num_items = len(values)\n",
    "\n",
    "penaly_capacity = 10\n",
    "\n",
    "dqm = DiscreteQuadraticModel()\n",
    "\n",
    "x = {i: dqm.add_variable(num_knapsacks + 1) for i in range(num_items)} # one more option for not choosing an item at all\n",
    "print(sum(weights))"
   ]
  },
  {
   "cell_type": "code",
   "execution_count": 22,
   "id": "565bcb9e-1c5e-45fe-bfe8-6b2ffb2b8d4c",
   "metadata": {},
   "outputs": [],
   "source": [
    "for i in range(num_items):\n",
    "    for k in range(1, num_knapsacks + 1):\n",
    "        dqm.set_linear_case(i, k, -values[i])\n",
    "    \n",
    "for k in range(1, num_knapsacks + 1):\n",
    "    dqm.add_linear_inequality_constraint(\n",
    "        [(x[i], k, weights[i]) for i in range(num_items)],\n",
    "        constant=-capacity,\n",
    "        lagrange_multiplier=penaly_capacity,\n",
    "        label=f'capacity_knapsack_{k}',\n",
    "        slack_method='log10'\n",
    "    )"
   ]
  },
  {
   "cell_type": "code",
   "execution_count": 23,
   "id": "06606946-bfb8-4208-9b93-4968cd712f1b",
   "metadata": {},
   "outputs": [
    {
     "name": "stdout",
     "output_type": "stream",
     "text": [
      "32768000\n"
     ]
    }
   ],
   "source": [
    "import numpy as np\n",
    "print(np.product([dqm.num_cases(v) for v in dqm.variables]))"
   ]
  },
  {
   "cell_type": "code",
   "execution_count": 24,
   "id": "7b084a02-42bf-4536-bfe5-270e68be31db",
   "metadata": {},
   "outputs": [
    {
     "name": "stdout",
     "output_type": "stream",
     "text": [
      "  0 1 2 3 4 5 ... slack_capacity_knapsack_3_1 energy num_oc.\n",
      "0 1 3 0 3 1 2 ...                           0  -30.0       1\n",
      "1 2 3 0 3 2 1 ...                           0  -30.0       1\n",
      "2 2 1 0 1 2 3 ...                           0  -30.0       1\n",
      "3 3 2 0 2 3 1 ...                           0  -30.0       1\n",
      "4 1 2 0 2 1 3 ...                           0  -30.0       1\n",
      "5 3 1 0 1 3 2 ...                           0  -30.0       1\n",
      "6 0 1 0 1 3 2 ...                           0  -29.0       1\n",
      "7 0 2 0 2 3 1 ...                           0  -29.0       1\n",
      "8 0 3 0 3 2 1 ...                           0  -29.0       1\n",
      "9 0 3 0 3 1 2 ...                           0  -29.0       1\n",
      "['DISCRETE', 10 rows, 10 samples, 12 variables]\n"
     ]
    }
   ],
   "source": [
    "from dimod import ExactDQMSolver\n",
    "\n",
    "res = ExactDQMSolver().sample_dqm(dqm).truncate(10)\n",
    "print(res)"
   ]
  },
  {
   "cell_type": "code",
   "execution_count": null,
   "id": "e13c3377-b01f-4f71-b296-ae2767e8cb01",
   "metadata": {},
   "outputs": [],
   "source": []
  }
 ],
 "metadata": {
  "kernelspec": {
   "display_name": "Python 3",
   "language": "python",
   "name": "python3"
  },
  "language_info": {
   "codemirror_mode": {
    "name": "ipython",
    "version": 3
   },
   "file_extension": ".py",
   "mimetype": "text/x-python",
   "name": "python",
   "nbconvert_exporter": "python",
   "pygments_lexer": "ipython3",
   "version": "3.7.5"
  }
 },
 "nbformat": 4,
 "nbformat_minor": 5
}
