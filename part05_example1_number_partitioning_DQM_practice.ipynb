{
 "cells": [
  {
   "cell_type": "markdown",
   "id": "65081053-c1d8-4c75-9209-bb95bf0d49da",
   "metadata": {},
   "source": [
    "# Set partitioning using DQM"
   ]
  },
  {
   "cell_type": "markdown",
   "id": "da728dec-23dc-40d6-a2a6-97d7bb53ac52",
   "metadata": {},
   "source": [
    "# Partitioning to more than two sets\n",
    "\n",
    "- We will need one binary variable for each number and set combination\n",
    "- The binary value xij = 1 if value i belongs to set j\n",
    "- Each value can only be assigned to one set"
   ]
  },
  {
   "cell_type": "code",
   "execution_count": null,
   "id": "fda133b9-affb-48ee-8004-9476e31fff7e",
   "metadata": {},
   "outputs": [],
   "source": [
    "from dimod import DiscreteQuadraticModel\n",
    "\n",
    "values = [7, 2, 3, 1, 8, 3, 1, 2, 9]\n",
    "dqm = DiscreteQuadraticModel()\n",
    "n = len(values)\n",
    "m = 3 # num_partitions\n",
    "\n",
    "# Use dqm.add_variable method\n",
    "# This method takes num_cases and label as inputs. You may only use the num_cases without specifying any label\n",
    "x = {i: # your code here\n",
    "     for i in range(n)\n",
    "    }"
   ]
  },
  {
   "cell_type": "markdown",
   "id": "35ea33e0-19d1-4fe1-863e-54c06fd714c3",
   "metadata": {},
   "source": [
    "# No objective, only constraints"
   ]
  },
  {
   "cell_type": "markdown",
   "id": "4c6aea55-b7c5-48e8-9e9d-d2cd405d2ec4",
   "metadata": {},
   "source": [
    "For each pair of sets, ensure that the sum of the two sets is equal\n",
    "\n",
    "$$ \\sum_i v_i x_{ij} = \\sum_i v_i x_{ik} $$ for all j and k\n",
    "\n",
    "Or equally:\n",
    "\n",
    "$$ \\sum_i v_i x_{ij} - \\sum_i v_i x_{ik} = 0$$"
   ]
  },
  {
   "cell_type": "code",
   "execution_count": null,
   "id": "6687dc3e-4612-4840-8df3-2f888488cf31",
   "metadata": {},
   "outputs": [],
   "source": [
    "from itertools import combinations\n",
    "for k, l in combinations(range(m), r=2):\n",
    "    # add the equation above as a constraint\n",
    "    # use a list of tuples to pass the terms of the sum\n",
    "    # to add the second terms use the sum of two lists [] + []\n",
    "    dqm.add_linear_equality_constraint(\n",
    "    # your code here,\n",
    "    constant=0,\n",
    "    lagrange_multiplier=10)"
   ]
  },
  {
   "cell_type": "markdown",
   "id": "835c11e6-4f35-4fb5-9165-5f1a73f3d76b",
   "metadata": {},
   "source": [
    "Add a constraint to make sure each value is assign to exactly one set. "
   ]
  },
  {
   "cell_type": "code",
   "execution_count": null,
   "id": "dbd058e0-4b65-4572-a543-eb07ecf98e5b",
   "metadata": {},
   "outputs": [],
   "source": [
    "# Actually, no need! This constraint is a built-in when using discrete variables."
   ]
  },
  {
   "cell_type": "markdown",
   "id": "b73b5701-a8b6-45d4-83d1-f6a21b44d4dd",
   "metadata": {},
   "source": [
    "Solve using one of the solvers. You may have to run it a few times."
   ]
  },
  {
   "cell_type": "code",
   "execution_count": null,
   "id": "f494d65a-7566-4725-933c-40517e94d550",
   "metadata": {},
   "outputs": [],
   "source": [
    "from dimod import ExactDQMSolver\n",
    "\n",
    "res = ExactDQMSolver().sample_dqm(dqm).truncate(5)\n",
    "print(res)"
   ]
  },
  {
   "cell_type": "markdown",
   "id": "d78aaa4a-3951-47e1-9e0a-787274ae2481",
   "metadata": {},
   "source": [
    "# Result"
   ]
  },
  {
   "cell_type": "code",
   "execution_count": null,
   "id": "1858fc3c-510c-4d63-9df5-18b505c78d7a",
   "metadata": {},
   "outputs": [],
   "source": [
    "sample = res.first.sample\n",
    "\n",
    "print(sample)\n",
    "print(sum(values))\n",
    "for k in range(m):\n",
    "    set1 = [values[i] for i in x if sample[x[i]] == k]\n",
    "    print(sum(set1), set1)"
   ]
  }
 ],
 "metadata": {
  "kernelspec": {
   "display_name": "Python 3",
   "language": "python",
   "name": "python3"
  },
  "language_info": {
   "codemirror_mode": {
    "name": "ipython",
    "version": 3
   },
   "file_extension": ".py",
   "mimetype": "text/x-python",
   "name": "python",
   "nbconvert_exporter": "python",
   "pygments_lexer": "ipython3",
   "version": "3.7.5"
  }
 },
 "nbformat": 4,
 "nbformat_minor": 5
}
