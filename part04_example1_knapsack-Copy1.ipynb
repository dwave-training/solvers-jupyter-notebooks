{
 "cells": [
  {
   "cell_type": "markdown",
   "id": "e60e3992-b60a-46fb-980a-07c8f08398de",
   "metadata": {},
   "source": [
    "# Knapsack example\n",
    "\n",
    "- Maximize the value of the items\n",
    "- Stay within the capacity of the knapsack\n",
    "- Each item has a value, weight, and a volume\n",
    "- The knapsack has both weight and volume capacity"
   ]
  },
  {
   "cell_type": "code",
   "execution_count": 1,
   "id": "507fe866-e280-48fd-b009-afc44d23fa0c",
   "metadata": {},
   "outputs": [],
   "source": [
    "values = [1, 2, 3, 4]\n",
    "weights = [2, 2, 3, 3]\n",
    "volumes = [3, 3, 2, 2]\n",
    "n = 4\n",
    "variables = list(range(n))\n",
    "max_weight = 4\n",
    "max_volume = 6\n",
    "\n",
    "penalty_strength_weight = 20\n",
    "penalty_strength_volume = 20"
   ]
  },
  {
   "cell_type": "markdown",
   "id": "f21e3774-c5e8-4195-881a-51e8b17ce930",
   "metadata": {},
   "source": [
    "# Create the BQM model\n",
    "Decision variable is binary variable $x$ for each item. If $x=1$, the item is in the knapsack, zero otherwise.\n",
    "\n",
    "The coefficient of the variable is the negative of its value to account for the fact that we minimize the objective."
   ]
  },
  {
   "cell_type": "code",
   "execution_count": 2,
   "id": "2263231a-9699-4e70-9268-41580d40f3aa",
   "metadata": {},
   "outputs": [],
   "source": [
    "from dimod import Float\n",
    "\n",
    "bqm = BinaryQuadraticModel('BINARY')\n",
    "\n",
    "variables = [bqm.add_variable(f'x_{v}', -values[v]) for v in variables]"
   ]
  },
  {
   "cell_type": "markdown",
   "id": "c120c962-626b-4544-8798-105c7c855273",
   "metadata": {},
   "source": [
    "# Slack variables - Weight capacity\n",
    "\n",
    "Inequality constraint:\n",
    "$$\\sum_i w_i x_i \\leq W_c$$\n",
    "\n",
    "We convert this type of constraint to an equality using a positive slack variable $S_w$ that accounts for the extra space.\n",
    "\n",
    "$$\\sum_i w_i x_i = W_c'$$\n",
    "$$0 \\leq W_c' \\leq W_c$$\n",
    "$$ S_w = W_c - W_c' > 0$$\n",
    "\n",
    "The slack variable (an integer) can be represented using binary variables.\n",
    "\n",
    "$$S_w = \\sum_i^M y_i 2^i$$\n",
    "\n",
    "The total number of binary variables used for this representation is the base 2 logarithm of the range of the slack variable.\n",
    "\n",
    "$$M = \\mathrm{log}_2 \\left(1 + W_c\\right)$$"
   ]
  },
  {
   "cell_type": "markdown",
   "id": "8354daf4-dc45-4842-815a-db3257e6bb00",
   "metadata": {},
   "source": [
    "After adding the slack variables to the left-hand-side of the capacity constraint equation, we are left with an equality constraint that we can convert to a quadratic objective as before.\n"
   ]
  },
  {
   "cell_type": "code",
   "execution_count": 3,
   "id": "e8887804-c44f-469e-a5c5-f86ff223ea50",
   "metadata": {},
   "outputs": [
    {
     "ename": "AttributeError",
     "evalue": "'BinaryQuadraticModel' object has no attribute 'add_linear_inequality_constraint'",
     "output_type": "error",
     "traceback": [
      "\u001b[0;31m---------------------------------------------------------------------------\u001b[0m",
      "\u001b[0;31mAttributeError\u001b[0m                            Traceback (most recent call last)",
      "\u001b[0;32m<ipython-input-3-0d58abe4e17d>\u001b[0m in \u001b[0;36m<module>\u001b[0;34m\u001b[0m\n\u001b[0;32m----> 1\u001b[0;31m bqm.add_linear_inequality_constraint(\n\u001b[0m\u001b[1;32m      2\u001b[0m     \u001b[0;34m[\u001b[0m\u001b[0;34m(\u001b[0m\u001b[0mx\u001b[0m\u001b[0;34m,\u001b[0m \u001b[0mw\u001b[0m\u001b[0;34m)\u001b[0m \u001b[0;32mfor\u001b[0m \u001b[0mx\u001b[0m\u001b[0;34m,\u001b[0m \u001b[0mw\u001b[0m \u001b[0;32min\u001b[0m \u001b[0mzip\u001b[0m\u001b[0;34m(\u001b[0m\u001b[0mvariables\u001b[0m\u001b[0;34m,\u001b[0m \u001b[0mweights\u001b[0m\u001b[0;34m)\u001b[0m\u001b[0;34m]\u001b[0m\u001b[0;34m,\u001b[0m\u001b[0;34m\u001b[0m\u001b[0;34m\u001b[0m\u001b[0m\n\u001b[1;32m      3\u001b[0m     \u001b[0mconstant\u001b[0m\u001b[0;34m=\u001b[0m\u001b[0;34m-\u001b[0m\u001b[0mmax_weight\u001b[0m\u001b[0;34m,\u001b[0m\u001b[0;34m\u001b[0m\u001b[0;34m\u001b[0m\u001b[0m\n\u001b[1;32m      4\u001b[0m     \u001b[0mlagrange_multiplier\u001b[0m\u001b[0;34m=\u001b[0m\u001b[0mpenalty_strength_weight\u001b[0m\u001b[0;34m\u001b[0m\u001b[0;34m\u001b[0m\u001b[0m\n\u001b[1;32m      5\u001b[0m )\n",
      "\u001b[0;31mAttributeError\u001b[0m: 'BinaryQuadraticModel' object has no attribute 'add_linear_inequality_constraint'"
     ]
    }
   ],
   "source": [
    "bqm.add_linear_inequality_constraint(\n",
    "    [(x, w) for x, w in zip(variables, weights)],\n",
    "    constant=-max_weight,\n",
    "    lagrange_multiplier=penalty_strength_weight\n",
    ")"
   ]
  },
  {
   "cell_type": "markdown",
   "id": "02875da2-f2ef-4135-a6e6-fdefc4e5fcbe",
   "metadata": {},
   "source": [
    "Similarly we define a set of slack variables for the volume capacity constraint."
   ]
  },
  {
   "cell_type": "code",
   "execution_count": 69,
   "id": "20589121-2d34-4aa9-9b9a-42f035df0522",
   "metadata": {},
   "outputs": [],
   "source": [
    "num_slacks_v = math.ceil(math.log2(max_volume + 1))\n",
    "slacks_volume = [bqm.add_variable(f's_v_{i}') for i in range(num_slacks_v)]"
   ]
  },
  {
   "cell_type": "code",
   "execution_count": 70,
   "id": "40a49052-c41d-47b7-be19-3499f1868eba",
   "metadata": {},
   "outputs": [],
   "source": [
    "bqm.add_linear_equality_constraint(\n",
    "    [(x, v) for x, v in zip(variables, volumes)] + [(s_v, 2 ** i) for i, s_v in enumerate(slacks_volume)],\n",
    "    constant=-max_volume,\n",
    "    lagrange_multiplier=penalty_strength_volume\n",
    ")"
   ]
  },
  {
   "cell_type": "markdown",
   "id": "59ba3f88-0e23-4169-a2a9-0e459d5e5884",
   "metadata": {},
   "source": [
    "For a small problem with 4 items, we can solve the QUBO exactly by enumerating all solutions."
   ]
  },
  {
   "cell_type": "code",
   "execution_count": 72,
   "id": "226cbcbd-4f28-4820-a724-55e7a40eb245",
   "metadata": {},
   "outputs": [
    {
     "name": "stdout",
     "output_type": "stream",
     "text": [
      "  s_v_0 s_v_1 s_v_2 s_v_3 s_w_0 s_w_1 s_w_2 x_0 x_1 x_2 x_3 energy num_oc.\n",
      "0     0     0     1     0     1     0     0   0   0   0   1   -4.0       1\n",
      "1     0     0     0     0     0     0     0   1   1   0   0   -3.0       1\n",
      "2     0     0     1     0     1     0     0   0   0   1   0   -3.0       1\n",
      "3     1     1     0     0     0     1     0   0   1   0   0   -2.0       1\n",
      "4     1     1     0     0     0     1     0   1   0   0   0   -1.0       1\n",
      "['BINARY', 5 rows, 5 samples, 11 variables]\n"
     ]
    }
   ],
   "source": [
    "from dimod import ExactSolver\n",
    "\n",
    "response = ExactSolver().sample(bqm)\n",
    "samples = response.samples()\n",
    "print(response.truncate(5))"
   ]
  },
  {
   "cell_type": "code",
   "execution_count": 64,
   "id": "ac6f0029-b23d-4c5a-8b78-ea649662bdcd",
   "metadata": {},
   "outputs": [],
   "source": [
    "def violations(sample, slack_variables, array, capacity):\n",
    "    slack_total_weight = 0\n",
    "    weight = 0\n",
    "    for i, v in enumerate(slack_variables):\n",
    "        slack_total_weight += sample[v] * 2 ** i\n",
    "        weight += array[i] * sample[v]\n",
    "    print(weight, slack_total_weight, weight + slack_total_weight, capacity, weight + slack_total_weight <= capacity)\n",
    "    "
   ]
  },
  {
   "cell_type": "code",
   "execution_count": 65,
   "id": "e78d4e27-fdbe-49ab-925f-93c2393797c1",
   "metadata": {},
   "outputs": [
    {
     "name": "stdout",
     "output_type": "stream",
     "text": [
      "2 1 3 4 True\n",
      "2 4 6 6 True\n"
     ]
    }
   ],
   "source": [
    "violations(samples[0], slacks_weight, weights, max_weight)\n",
    "violations(samples[0], slacks_volume, volumes, max_volume)"
   ]
  }
 ],
 "metadata": {
  "kernelspec": {
   "display_name": "Python 3",
   "language": "python",
   "name": "python3"
  },
  "language_info": {
   "codemirror_mode": {
    "name": "ipython",
    "version": 3
   },
   "file_extension": ".py",
   "mimetype": "text/x-python",
   "name": "python",
   "nbconvert_exporter": "python",
   "pygments_lexer": "ipython3",
   "version": "3.7.5"
  }
 },
 "nbformat": 4,
 "nbformat_minor": 5
}
