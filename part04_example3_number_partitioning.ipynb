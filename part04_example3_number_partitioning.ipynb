{
 "cells": [
  {
   "cell_type": "markdown",
   "id": "65081053-c1d8-4c75-9209-bb95bf0d49da",
   "metadata": {},
   "source": [
    "# Set partitioning\n",
    "\n",
    "Given a list of numbers, partition the values into two sets of equal sum."
   ]
  },
  {
   "cell_type": "code",
   "execution_count": 2,
   "id": "f80f77bb-1093-4716-968d-7aed2ac670d2",
   "metadata": {},
   "outputs": [],
   "source": [
    "values = [1, 2, 3, 4, 5, 6, 7, 8]"
   ]
  },
  {
   "cell_type": "markdown",
   "id": "11ef85ce-a277-4ff0-9faf-470628d2782d",
   "metadata": {},
   "source": [
    "# Create the BQM object\n",
    "\n",
    "- Use one binary variable x for each number. If x = 1, the value belongs to one set, otherwise it belong to antoher.\n",
    "- There is no object, only a constraint\n",
    "- The sum of the values in each set must be equal\n",
    "\n",
    "$$ \\sum_i v_i x_i = \\sum_i v_i (1 - x_i) $$\n",
    "\n",
    "After simplifying:\n",
    "\n",
    "$$ \\sum_i 2 v_i x_i - \\sum_i v_i = 0$$"
   ]
  },
  {
   "cell_type": "code",
   "execution_count": 3,
   "id": "778bfcf2-08cc-4b80-9716-1898b72bf287",
   "metadata": {},
   "outputs": [],
   "source": [
    "from dimod import AdjVectorBQM\n",
    "\n",
    "bqm = AdjVectorBQM('BINARY')\n",
    "n = len(values)\n",
    "x = {i: bqm.add_variable(f'x_{i}') for i in range(n)}\n",
    "    \n",
    "bqm.add_linear_equality_constraint(\n",
    "    [(x[i], 2.0 * values[i]) for i in range(n)],\n",
    "    constant=-sum(values),\n",
    "    lagrange_multiplier=10\n",
    ")"
   ]
  },
  {
   "cell_type": "code",
   "execution_count": 5,
   "id": "12262f1f-0c87-42ec-bb44-f70e2490a7dc",
   "metadata": {},
   "outputs": [
    {
     "name": "stdout",
     "output_type": "stream",
     "text": [
      "  x_0 x_1 x_2 x_3 x_4 x_5 x_6 x_7 energy num_oc.\n",
      "0   0   1   0   1   1   0   1   0    0.0       1\n",
      "1   0   0   1   0   0   0   1   1    0.0       1\n",
      "2   1   1   1   0   1   0   1   0    0.0       1\n",
      "3   1   0   1   0   0   1   0   1    0.0       1\n",
      "4   1   0   0   1   0   1   1   0    0.0       1\n",
      "['BINARY', 5 rows, 5 samples, 8 variables]\n"
     ]
    }
   ],
   "source": [
    "from dimod import ExactSolver\n",
    "\n",
    "response = ExactSolver().sample(bqm).truncate(5)\n",
    "solution = response.first.sample\n",
    "print(response)"
   ]
  },
  {
   "cell_type": "code",
   "execution_count": 16,
   "id": "2aaa4a6d-b7c7-499b-b741-f45127d6c077",
   "metadata": {},
   "outputs": [
    {
     "name": "stdout",
     "output_type": "stream",
     "text": [
      "18 = sum(2, 4, 5, 7)\n",
      "18 = sum(8, 1, 3, 6)\n"
     ]
    }
   ],
   "source": [
    "set1 = {values[i] for i in x if solution[x[i]]}\n",
    "set2 = {values[i] for i in x if not solution[x[i]]}\n",
    "print(f'{sum(set1)} = sum{tuple(set1)}')\n",
    "print(f'{sum(set2)} = sum{tuple(set2)}')"
   ]
  },
  {
   "cell_type": "markdown",
   "id": "da728dec-23dc-40d6-a2a6-97d7bb53ac52",
   "metadata": {},
   "source": [
    "# Partitioning to more than two sets\n",
    "\n",
    "- We will need one binary variable for each number and set combination\n",
    "- The binary value xij = 1 if value i belongs to set j\n",
    "- Each value can only be assigned to one set"
   ]
  },
  {
   "cell_type": "code",
   "execution_count": 2,
   "id": "fda133b9-affb-48ee-8004-9476e31fff7e",
   "metadata": {},
   "outputs": [
    {
     "ename": "NameError",
     "evalue": "name 'AdjVectorBQM' is not defined",
     "output_type": "error",
     "traceback": [
      "\u001b[0;31m---------------------------------------------------------------------------\u001b[0m",
      "\u001b[0;31mNameError\u001b[0m                                 Traceback (most recent call last)",
      "\u001b[0;32m<ipython-input-2-54810b10ca6b>\u001b[0m in \u001b[0;36m<module>\u001b[0;34m\u001b[0m\n\u001b[1;32m      1\u001b[0m \u001b[0mvalues\u001b[0m \u001b[0;34m=\u001b[0m \u001b[0;34m[\u001b[0m\u001b[0;36m7\u001b[0m\u001b[0;34m,\u001b[0m \u001b[0;36m2\u001b[0m\u001b[0;34m,\u001b[0m \u001b[0;36m3\u001b[0m\u001b[0;34m,\u001b[0m \u001b[0;36m1\u001b[0m\u001b[0;34m,\u001b[0m \u001b[0;36m8\u001b[0m\u001b[0;34m,\u001b[0m \u001b[0;36m3\u001b[0m\u001b[0;34m,\u001b[0m \u001b[0;36m1\u001b[0m\u001b[0;34m,\u001b[0m \u001b[0;36m2\u001b[0m\u001b[0;34m,\u001b[0m \u001b[0;36m9\u001b[0m\u001b[0;34m]\u001b[0m\u001b[0;34m\u001b[0m\u001b[0;34m\u001b[0m\u001b[0m\n\u001b[0;32m----> 2\u001b[0;31m \u001b[0mbqm\u001b[0m \u001b[0;34m=\u001b[0m \u001b[0mAdjVectorBQM\u001b[0m\u001b[0;34m(\u001b[0m\u001b[0;34m'BINARY'\u001b[0m\u001b[0;34m)\u001b[0m\u001b[0;34m\u001b[0m\u001b[0;34m\u001b[0m\u001b[0m\n\u001b[0m\u001b[1;32m      3\u001b[0m \u001b[0mn\u001b[0m \u001b[0;34m=\u001b[0m \u001b[0mlen\u001b[0m\u001b[0;34m(\u001b[0m\u001b[0mvalues\u001b[0m\u001b[0;34m)\u001b[0m\u001b[0;34m\u001b[0m\u001b[0;34m\u001b[0m\u001b[0m\n\u001b[1;32m      4\u001b[0m \u001b[0mm\u001b[0m \u001b[0;34m=\u001b[0m \u001b[0;36m3\u001b[0m \u001b[0;31m# num_partitions\u001b[0m\u001b[0;34m\u001b[0m\u001b[0;34m\u001b[0m\u001b[0m\n\u001b[1;32m      5\u001b[0m \u001b[0;34m\u001b[0m\u001b[0m\n",
      "\u001b[0;31mNameError\u001b[0m: name 'AdjVectorBQM' is not defined"
     ]
    }
   ],
   "source": [
    "values = [7, 2, 3, 1, 8, 3, 1, 2, 9]\n",
    "bqm = AdjVectorBQM('BINARY')\n",
    "n = len(values)\n",
    "m = 3 # num_partitions\n",
    "\n",
    "x = {(i, k): bqm.add_variable((f'x_{i}', k)) \n",
    "     for i in range(n)\n",
    "     for k in range(m)\n",
    "    }"
   ]
  },
  {
   "cell_type": "markdown",
   "id": "35ea33e0-19d1-4fe1-863e-54c06fd714c3",
   "metadata": {},
   "source": [
    "# No objective, only constraints"
   ]
  },
  {
   "cell_type": "markdown",
   "id": "4c6aea55-b7c5-48e8-9e9d-d2cd405d2ec4",
   "metadata": {},
   "source": [
    "For each pair of sets, ensure that the sum of the two sets is equal\n",
    "\n",
    "$$ \\sum_i v_i x_{ij} = \\sum_i v_i x_{ik} $$ for all j and k\n",
    "\n",
    "Or equally:\n",
    "\n",
    "$$ \\sum_i v_i x_{ij} - \\sum_i v_i x_{ik} = 0$$"
   ]
  },
  {
   "cell_type": "code",
   "execution_count": 99,
   "id": "6687dc3e-4612-4840-8df3-2f888488cf31",
   "metadata": {},
   "outputs": [],
   "source": [
    "from itertools import combinations\n",
    "for k, l in combinations(range(m), r=2):\n",
    "    bqm.add_linear_equality_constraint(\n",
    "    [(x[i, k], values[i]) for i in range(n)] + [(x[i, l], -values[i]) for i in range(n)],\n",
    "    constant=0,\n",
    "    lagrange_multiplier=10)"
   ]
  },
  {
   "cell_type": "markdown",
   "id": "835c11e6-4f35-4fb5-9165-5f1a73f3d76b",
   "metadata": {},
   "source": [
    "Add a constraint to make sure each value is assign to exactly one set"
   ]
  },
  {
   "cell_type": "code",
   "execution_count": 100,
   "id": "dbd058e0-4b65-4572-a543-eb07ecf98e5b",
   "metadata": {},
   "outputs": [],
   "source": [
    "for i in range(n):\n",
    "    bqm.add_linear_equality_constraint(\n",
    "    [(x[i, k], 1.0) for k in range(m)],\n",
    "    constant=-1.0,\n",
    "    lagrange_multiplier=10)"
   ]
  },
  {
   "cell_type": "markdown",
   "id": "b73b5701-a8b6-45d4-83d1-f6a21b44d4dd",
   "metadata": {},
   "source": [
    "Solve using one of the solvers. You may have to run it a few times."
   ]
  },
  {
   "cell_type": "code",
   "execution_count": 101,
   "id": "f494d65a-7566-4725-933c-40517e94d550",
   "metadata": {},
   "outputs": [
    {
     "name": "stdout",
     "output_type": "stream",
     "text": [
      "  ('x_0', 0) ('x_0', 1) ('x_0', 2) ('x_1', 0) ... ('x_8', 2) energy num_oc.\n",
      "0          1          0          0          1 ...          1    0.0       1\n",
      "1          1          0          0          0 ...          1   10.0       1\n",
      "2          0          0          1          0 ...          0   10.0       1\n",
      "3          0          1          0          1 ...          0   10.0       1\n",
      "4          0          0          1          0 ...          0   10.0       1\n",
      "['BINARY', 5 rows, 5 samples, 27 variables]\n"
     ]
    }
   ],
   "source": [
    "from neal import SimulatedAnnealingSampler\n",
    "\n",
    "res = SimulatedAnnealingSampler().sample(bqm, num_reads=100, num_sweeps=1000).truncate(5)\n",
    "print(res)"
   ]
  },
  {
   "cell_type": "markdown",
   "id": "d78aaa4a-3951-47e1-9e0a-787274ae2481",
   "metadata": {},
   "source": [
    "# Result"
   ]
  },
  {
   "cell_type": "code",
   "execution_count": 102,
   "id": "1858fc3c-510c-4d63-9df5-18b505c78d7a",
   "metadata": {},
   "outputs": [
    {
     "name": "stdout",
     "output_type": "stream",
     "text": [
      "36\n",
      "12 [7, 2, 3]\n",
      "12 [3, 1, 8]\n",
      "12 [1, 2, 9]\n"
     ]
    }
   ],
   "source": [
    "sample = res.first.sample\n",
    "\n",
    "print(sum(values))\n",
    "for k in range(m):\n",
    "    set1 = [values[i] for (i, l) in x if sample[x[i, l]] if k == l]\n",
    "    print(sum(set1), set1)"
   ]
  }
 ],
 "metadata": {
  "kernelspec": {
   "display_name": "Python 3",
   "language": "python",
   "name": "python3"
  },
  "language_info": {
   "codemirror_mode": {
    "name": "ipython",
    "version": 3
   },
   "file_extension": ".py",
   "mimetype": "text/x-python",
   "name": "python",
   "nbconvert_exporter": "python",
   "pygments_lexer": "ipython3",
   "version": "3.7.5"
  }
 },
 "nbformat": 4,
 "nbformat_minor": 5
}
