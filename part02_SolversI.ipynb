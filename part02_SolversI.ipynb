{
 "cells": [
  {
   "cell_type": "markdown",
   "id": "3399d20e-018d-4d21-99aa-92f0fe32ef56",
   "metadata": {},
   "source": [
    "# Overview of Solvers I\n",
    "\n",
    "## Goal\n",
    "- Get an overview of various solvers in Ocean\n",
    "- Understand the main purpose of each solver\n",
    "- Get familiar with some basic solver parameters"
   ]
  },
  {
   "cell_type": "markdown",
   "id": "0c7cfc2a-3e81-43e0-982f-66c9a64f2b2a",
   "metadata": {},
   "source": [
    "## Abstract Sampler class\n",
    "- All Ocean samplers inherit from the abstract\n",
    "- It has the main methods `.sample`, `.sample_ising`, `.sample_qubo`, etc.\n",
    "- We would like to focus on using `.sample` method with all solvers"
   ]
  },
  {
   "cell_type": "code",
   "execution_count": 14,
   "id": "a445a845-366b-480b-a6b6-060ad9200825",
   "metadata": {},
   "outputs": [
    {
     "data": {
      "text/plain": [
       "\u001b[0;31mInit signature:\u001b[0m \u001b[0mSampler\u001b[0m\u001b[0;34m(\u001b[0m\u001b[0;34m)\u001b[0m\u001b[0;34m\u001b[0m\u001b[0;34m\u001b[0m\u001b[0m\n",
       "\u001b[0;31mDocstring:\u001b[0m     \n",
       "Abstract base class for dimod samplers.\n",
       "\n",
       "Provides all methods :meth:`~.Sampler.sample`, :meth:`~.Sampler.sample_ising`,\n",
       ":meth:`~.Sampler.sample_qubo` assuming at least one is implemented.\n",
       "\n",
       "Also includes utility method :meth:`~.Sampler.remove_unknown_kwargs`, which\n",
       "may be used in sample methods to handle unknown kwargs.\n",
       "\u001b[0;31mFile:\u001b[0m           ~/project/CDL_Training/venv/envs/lib/python3.7/site-packages/dimod-0.10.0.dev4-py3.7-linux-x86_64.egg/dimod/core/sampler.py\n",
       "\u001b[0;31mType:\u001b[0m           SamplerABCMeta\n",
       "\u001b[0;31mSubclasses:\u001b[0m     ComposedSampler, SpinReversalTransformComposite, StructureComposite, ExactSolver, IdentitySampler, NullSampler, RandomSampler, SimulatedAnnealingSampler, SimulatedAnnealingSampler, DWaveSampler, ...\n"
      ]
     },
     "metadata": {},
     "output_type": "display_data"
    }
   ],
   "source": [
    "from dimod import Sampler\n",
    "\n",
    "Sampler?"
   ]
  },
  {
   "cell_type": "markdown",
   "id": "0ce44bdd-3c3a-4a0a-a440-80bc4f602c40",
   "metadata": {},
   "source": [
    "## Problem\n",
    "To focus on sampler, we are going to create a simple BQM problem that we will solve using different solvers."
   ]
  },
  {
   "cell_type": "code",
   "execution_count": 28,
   "id": "0e5ea1f9-03ab-4b3b-9525-49fb70f6a223",
   "metadata": {},
   "outputs": [
    {
     "data": {
      "image/png": "[encoded data removed]",
      "text/plain": [
       "<Figure size 432x288 with 1 Axes>"
      ]
     },
     "metadata": {},
     "output_type": "display_data"
    }
   ],
   "source": [
    "from dimod import BinaryQuadraticModel\n",
    "bqm = BinaryQuadraticModel('SPIN')\n",
    "bqm.add_variable(0, -1)\n",
    "bqm.add_variable(1, -1)\n",
    "bqm.add_variable(4, -1)\n",
    "bqm.add_variable(5, -1)\n",
    "bqm.add_interaction(0, 4, 1.0)\n",
    "bqm.add_interaction(0, 5, 1.0)\n",
    "bqm.add_interaction(1, 4, 1.0)\n",
    "bqm.add_interaction(1, 5, 1.0)\n",
    "\n",
    "import networkx as nx\n",
    "\n",
    "nx.draw(bqm.to_networkx_graph())"
   ]
  },
  {
   "cell_type": "markdown",
   "id": "ceb0737a-34ba-421d-a8d6-a141ccb64018",
   "metadata": {},
   "source": [
    "## ExactSolver\n",
    "- Mainly for debugging purposes\n",
    "- Can solve problems with up to 20 variables (or more) depending on the system"
   ]
  },
  {
   "cell_type": "code",
   "execution_count": 7,
   "id": "3b249177-755d-4a3b-8cac-a0f8fea7f1ea",
   "metadata": {},
   "outputs": [
    {
     "name": "stdout",
     "output_type": "stream",
     "text": [
      "   0  1  4  5 energy num_oc.\n",
      "0 +1 +1 -1 -1   -4.0       1\n",
      "1 -1 -1 +1 +1   -4.0       1\n",
      "2 +1 +1 +1 -1   -2.0       1\n",
      "3 +1 -1 +1 +1   -2.0       1\n",
      "4 -1 +1 +1 +1   -2.0       1\n",
      "5 +1 +1 -1 +1   -2.0       1\n",
      "6 -1 +1 +1 -1    0.0       1\n",
      "7 +1 -1 +1 -1    0.0       1\n",
      "8 +1 +1 +1 +1    0.0       1\n",
      "9 -1 +1 -1 +1    0.0       1\n",
      "['SPIN', 10 rows, 10 samples, 4 variables]\n"
     ]
    }
   ],
   "source": [
    "from dimod import ExactSolver\n",
    "from dimod.generators import gnp_random_bqm\n",
    "\n",
    "solver = ExactSolver()\n",
    "response = solver.sample(bqm)\n",
    "print(response.truncate(10))"
   ]
  },
  {
   "cell_type": "markdown",
   "id": "11c54dbb-a08d-4940-b0b4-e2a418194057",
   "metadata": {},
   "source": [
    "## Simulated Annealing\n",
    "- Historically was the main benchmark against QPU due to the similar underlying principles\n",
    "- Can be a good solver/sampler for small problems\n",
    "- A great tool for debugging purposes\n",
    "- Can be slow for large, dense problems"
   ]
  },
  {
   "cell_type": "code",
   "execution_count": 30,
   "id": "24d1088d-f86c-4323-bc65-bab83a904b03",
   "metadata": {},
   "outputs": [
    {
     "name": "stdout",
     "output_type": "stream",
     "text": [
      "   0  1  4  5 energy num_oc.\n",
      "0 -1 -1 +1 +1   -4.0       1\n",
      "1 +1 +1 -1 -1   -4.0       1\n",
      "2 +1 +1 -1 -1   -4.0       1\n",
      "3 +1 +1 -1 -1   -4.0       1\n",
      "4 -1 -1 +1 +1   -4.0       1\n",
      "5 +1 +1 -1 -1   -4.0       1\n",
      "6 +1 +1 -1 -1   -4.0       1\n",
      "7 -1 -1 +1 +1   -4.0       1\n",
      "8 +1 +1 -1 -1   -4.0       1\n",
      "9 +1 +1 -1 -1   -4.0       1\n",
      "['SPIN', 10 rows, 10 samples, 4 variables]\n"
     ]
    }
   ],
   "source": [
    "from neal import SimulatedAnnealingSampler\n",
    "from dimod.generators import gnp_random_bqm\n",
    "\n",
    "sampler = SimulatedAnnealingSampler()\n",
    "\n",
    "response = sampler.sample(bqm, num_reads=10,\n",
    "                          num_sweeps=1000,\n",
    "                          initial_states=None,\n",
    "                          beta_range=[10, 100])\n",
    "print(response)"
   ]
  },
  {
   "cell_type": "code",
   "execution_count": 33,
   "id": "f9046e79-f75e-4b95-bbbf-2b01c528424f",
   "metadata": {},
   "outputs": [
    {
     "data": {
      "text/plain": [
       "\u001b[0;31mSignature:\u001b[0m\n",
       "\u001b[0msampler\u001b[0m\u001b[0;34m.\u001b[0m\u001b[0msample\u001b[0m\u001b[0;34m(\u001b[0m\u001b[0;34m\u001b[0m\n",
       "\u001b[0;34m\u001b[0m    \u001b[0mbqm\u001b[0m\u001b[0;34m,\u001b[0m\u001b[0;34m\u001b[0m\n",
       "\u001b[0;34m\u001b[0m    \u001b[0mbeta_range\u001b[0m\u001b[0;34m=\u001b[0m\u001b[0;32mNone\u001b[0m\u001b[0;34m,\u001b[0m\u001b[0;34m\u001b[0m\n",
       "\u001b[0;34m\u001b[0m    \u001b[0mnum_reads\u001b[0m\u001b[0;34m=\u001b[0m\u001b[0;32mNone\u001b[0m\u001b[0;34m,\u001b[0m\u001b[0;34m\u001b[0m\n",
       "\u001b[0;34m\u001b[0m    \u001b[0mnum_sweeps\u001b[0m\u001b[0;34m=\u001b[0m\u001b[0;36m1000\u001b[0m\u001b[0;34m,\u001b[0m\u001b[0;34m\u001b[0m\n",
       "\u001b[0;34m\u001b[0m    \u001b[0mbeta_schedule_type\u001b[0m\u001b[0;34m=\u001b[0m\u001b[0;34m'geometric'\u001b[0m\u001b[0;34m,\u001b[0m\u001b[0;34m\u001b[0m\n",
       "\u001b[0;34m\u001b[0m    \u001b[0mseed\u001b[0m\u001b[0;34m=\u001b[0m\u001b[0;32mNone\u001b[0m\u001b[0;34m,\u001b[0m\u001b[0;34m\u001b[0m\n",
       "\u001b[0;34m\u001b[0m    \u001b[0minterrupt_function\u001b[0m\u001b[0;34m=\u001b[0m\u001b[0;32mNone\u001b[0m\u001b[0;34m,\u001b[0m\u001b[0;34m\u001b[0m\n",
       "\u001b[0;34m\u001b[0m    \u001b[0minitial_states\u001b[0m\u001b[0;34m=\u001b[0m\u001b[0;32mNone\u001b[0m\u001b[0;34m,\u001b[0m\u001b[0;34m\u001b[0m\n",
       "\u001b[0;34m\u001b[0m    \u001b[0minitial_states_generator\u001b[0m\u001b[0;34m=\u001b[0m\u001b[0;34m'random'\u001b[0m\u001b[0;34m,\u001b[0m\u001b[0;34m\u001b[0m\n",
       "\u001b[0;34m\u001b[0m    \u001b[0;34m**\u001b[0m\u001b[0mkwargs\u001b[0m\u001b[0;34m,\u001b[0m\u001b[0;34m\u001b[0m\n",
       "\u001b[0;34m\u001b[0m\u001b[0;34m)\u001b[0m\u001b[0;34m\u001b[0m\u001b[0;34m\u001b[0m\u001b[0m\n",
       "\u001b[0;31mDocstring:\u001b[0m\n",
       "Sample from a binary quadratic model using an implemented sample method.\n",
       "\n",
       "Args:\n",
       "    bqm (:class:`dimod.BinaryQuadraticModel`):\n",
       "        The binary quadratic model to be sampled.\n",
       "\n",
       "    beta_range (tuple, optional):\n",
       "        A 2-tuple defining the beginning and end of the beta schedule, where beta is the\n",
       "        inverse temperature. The schedule is applied linearly in beta. Default range is set\n",
       "        based on the total bias associated with each node.\n",
       "\n",
       "    num_reads (int, optional, default=len(initial_states) or 1):\n",
       "        Number of reads. Each read is generated by one run of the simulated\n",
       "        annealing algorithm. If `num_reads` is not explicitly given, it is\n",
       "        selected to match the number of initial states given. If initial states\n",
       "        are not provided, only one read is performed.\n",
       "\n",
       "    num_sweeps (int, optional, default=1000):\n",
       "        Number of sweeps or steps.\n",
       "\n",
       "    beta_schedule_type (string, optional, default='geometric'):\n",
       "        Beta schedule type, or how the beta values are interpolated between\n",
       "        the given 'beta_range'. Supported values are:\n",
       "\n",
       "        * linear\n",
       "        * geometric\n",
       "\n",
       "    seed (int, optional):\n",
       "        Seed to use for the PRNG. Specifying a particular seed with a constant\n",
       "        set of parameters produces identical results. If not provided, a random seed\n",
       "        is chosen.\n",
       "\n",
       "    initial_states (samples-like, optional, default=None):\n",
       "        One or more samples, each defining an initial state for all the\n",
       "        problem variables. Initial states are given one per read, but\n",
       "        if fewer than `num_reads` initial states are defined,\n",
       "        additional values are generated as specified by\n",
       "        `initial_states_generator`. See func:`.as_samples` for a\n",
       "        description of \"samples-like\".\n",
       "\n",
       "    initial_states_generator (str, 'none'/'tile'/'random', optional, default='random'):\n",
       "        Defines the expansion of `initial_states` if fewer than\n",
       "        `num_reads` are specified:\n",
       "\n",
       "        * \"none\":\n",
       "            If the number of initial states specified is smaller than\n",
       "            `num_reads`, raises ValueError.\n",
       "\n",
       "        * \"tile\":\n",
       "            Reuses the specified initial states if fewer than `num_reads`\n",
       "            or truncates if greater.\n",
       "\n",
       "        * \"random\":\n",
       "            Expands the specified initial states with randomly generated\n",
       "            states if fewer than `num_reads` or truncates if greater.\n",
       "\n",
       "    interrupt_function (function, optional):\n",
       "        If provided, interrupt_function is called with no parameters\n",
       "        between each sample of simulated annealing. If the function\n",
       "        returns True, then simulated annealing will terminate and return\n",
       "        with all of the samples and energies found so far.\n",
       "\n",
       "Returns:\n",
       "    :obj:`dimod.Response`: A `dimod` :obj:`~dimod.Response` object.\n",
       "\n",
       "Examples:\n",
       "    This example runs simulated annealing on a binary quadratic model with some\n",
       "    different input parameters.\n",
       "\n",
       "    >>> import dimod\n",
       "    >>> import neal\n",
       "    ...\n",
       "    >>> sampler = neal.SimulatedAnnealingSampler()\n",
       "    >>> bqm = dimod.BinaryQuadraticModel({'a': .5, 'b': -.5}, {('a', 'b'): -1}, 0.0, dimod.SPIN)\n",
       "    >>> # Run with default parameters\n",
       "    >>> sampleset = sampler.sample(bqm)\n",
       "    >>> # Run with specified parameters\n",
       "    >>> sampleset = sampler.sample(bqm, seed=1234, beta_range=[0.1, 4.2],\n",
       "    ...                                num_reads=1, num_sweeps=20,\n",
       "    ...                                beta_schedule_type='geometric')\n",
       "    >>> # Reuse a seed\n",
       "    >>> a1 = next((sampler.sample(bqm, seed=88)).samples())['a']\n",
       "    >>> a2 = next((sampler.sample(bqm, seed=88)).samples())['a']\n",
       "    >>> a1 == a2\n",
       "    True\n",
       "\u001b[0;31mFile:\u001b[0m      ~/project/CDL_Training/venv/envs/lib/python3.7/site-packages/neal/sampler.py\n",
       "\u001b[0;31mType:\u001b[0m      method\n"
      ]
     },
     "metadata": {},
     "output_type": "display_data"
    }
   ],
   "source": [
    "sampler.sample?"
   ]
  },
  {
   "cell_type": "code",
   "execution_count": 34,
   "id": "806006c4-5b22-4611-a1fd-3d712d79bc6e",
   "metadata": {},
   "outputs": [
    {
     "name": "stdout",
     "output_type": "stream",
     "text": [
      "   0  1  4  5 energy num_oc.\n",
      "0 +1 +1 -1 -1   -4.0       1\n",
      "1 +1 +1 -1 -1   -4.0       1\n",
      "2 +1 +1 -1 -1   -4.0       1\n",
      "3 +1 +1 -1 -1   -4.0       1\n",
      "4 +1 +1 -1 -1   -4.0       1\n",
      "5 -1 -1 +1 +1   -4.0       1\n",
      "6 +1 +1 -1 -1   -4.0       1\n",
      "7 -1 -1 +1 +1   -4.0       1\n",
      "8 +1 +1 -1 -1   -4.0       1\n",
      "9 +1 +1 -1 -1   -4.0       1\n",
      "['SPIN', 10 rows, 10 samples, 4 variables]\n"
     ]
    }
   ],
   "source": [
    "from dwave.system import DWaveSampler\n",
    "\n",
    "sampler = DWaveSampler()\n",
    "\n",
    "response = sampler.sample(\n",
    "    bqm, num_reads=10,\n",
    "    annealing_time=10,\n",
    "    auto_scale=False,\n",
    "    answer_mode='raw'\n",
    "    )\n",
    "print(response)"
   ]
  },
  {
   "cell_type": "code",
   "execution_count": 35,
   "id": "95877c9e-630d-442c-b37d-ab8f30865d88",
   "metadata": {},
   "outputs": [
    {
     "data": {
      "text/plain": [
       "\u001b[0;31mSignature:\u001b[0m \u001b[0msampler\u001b[0m\u001b[0;34m.\u001b[0m\u001b[0msample\u001b[0m\u001b[0;34m(\u001b[0m\u001b[0mbqm\u001b[0m\u001b[0;34m,\u001b[0m \u001b[0mwarnings\u001b[0m\u001b[0;34m=\u001b[0m\u001b[0;32mNone\u001b[0m\u001b[0;34m,\u001b[0m \u001b[0;34m**\u001b[0m\u001b[0mkwargs\u001b[0m\u001b[0;34m)\u001b[0m\u001b[0;34m\u001b[0m\u001b[0;34m\u001b[0m\u001b[0m\n",
       "\u001b[0;31mDocstring:\u001b[0m\n",
       "Sample from the specified binary quadratic model.\n",
       "\n",
       "Args:\n",
       "    bqm (:class:`~dimod.BinaryQuadraticModel`):\n",
       "        The binary quadratic model. Must match :attr:`.nodelist` and\n",
       "        :attr:`.edgelist`.\n",
       "\n",
       "    warnings (:class:`~dwave.system.warnings.WarningAction`, optional):\n",
       "        Defines what warning action to take, if any. See\n",
       "        :ref:`warnings_system`. The default behaviour is to\n",
       "        ignore warnings.\n",
       "\n",
       "    **kwargs:\n",
       "        Optional keyword arguments for the sampling method, specified per solver in\n",
       "        :attr:`.parameters`. D-Wave System Documentation's\n",
       "        `solver guide <https://docs.dwavesys.com/docs/latest/doc_solver_ref.html>`_\n",
       "        describes the parameters and properties supported on the D-Wave system.\n",
       "\n",
       "Returns:\n",
       "    :class:`dimod.SampleSet`: A `dimod` :obj:`~dimod.SampleSet` object.\n",
       "    In it this sampler also provides timing information in the `info`\n",
       "    field as described in the D-Wave System Documentation's\n",
       "    `timing guide <https://docs.dwavesys.com/docs/latest/doc_timing.html>`_.\n",
       "\n",
       "Examples:\n",
       "    This example submits a two-variable Ising problem mapped directly to two\n",
       "    adjacent qubits on a D-Wave system. ``qubit_a`` is the first qubit in\n",
       "    the QPU's indexed list of qubits and ``qubit_b`` is one of the qubits\n",
       "    coupled to it. Given sufficient reads (here 100), the quantum\n",
       "    computer should return the best solution, :math:`{1, -1}` on ``qubit_a`` and\n",
       "    ``qubit_b``, respectively, as its first sample (samples are ordered from\n",
       "    lowest energy).\n",
       "\n",
       "    >>> from dwave.system import DWaveSampler\n",
       "    ...\n",
       "    >>> sampler = DWaveSampler()\n",
       "    ...\n",
       "    >>> qubit_a = sampler.nodelist[0]\n",
       "    >>> qubit_b = next(iter(sampler.adjacency[qubit_a]))\n",
       "    >>> sampleset = sampler.sample_ising({qubit_a: -1, qubit_b: 1},\n",
       "    ...                                  {},\n",
       "    ...                                  num_reads=100)\n",
       "    >>> sampleset.first.sample[qubit_a] == 1 and sampleset.first.sample[qubit_b] == -1\n",
       "    True\n",
       "\n",
       "See `Ocean Glossary <https://docs.ocean.dwavesys.com/en/stable/concepts/index.html>`_\n",
       "for explanations of technical terms in descriptions of Ocean tools.\n",
       "\u001b[0;31mFile:\u001b[0m      ~/project/CDL_Training/venv/envs/lib/python3.7/site-packages/dwave/system/samplers/dwave_sampler.py\n",
       "\u001b[0;31mType:\u001b[0m      method\n"
      ]
     },
     "metadata": {},
     "output_type": "display_data"
    }
   ],
   "source": [
    "sampler.sample?"
   ]
  },
  {
   "cell_type": "markdown",
   "id": "208f518c-9012-4e96-8cda-c0862e2d5d42",
   "metadata": {},
   "source": [
    "## Some important parameters of the QPU\n",
    "- num_reads=10\n",
    "- annealing_time=10\n",
    "- auto_scale: True or False"
   ]
  },
  {
   "cell_type": "markdown",
   "id": "b24a5d73-b321-4309-b993-e31fab1d59c5",
   "metadata": {},
   "source": [
    "## LeapHybridSampler\n",
    "- The most flexible solver \n",
    "- Can solve large, dense problems efficiently using classical and quantum resources\n",
    "- 20000 variable fully connected (~200M biases)\n",
    "- 1000000000 variables with at most 200M biases\n",
    "- Only one parameter - time limit"
   ]
  },
  {
   "cell_type": "code",
   "execution_count": null,
   "id": "e8247525-8e3c-4968-a857-70324417c3ed",
   "metadata": {},
   "outputs": [],
   "source": [
    "from dwave.system import LeapHybridSampler\n",
    "from dimod.generators import gnp_random_bqm\n",
    "\n",
    "bqm = gnp_random_bqm(16, p=0.75, vartype='SPIN')\n",
    "sampler = LeapHybridSampler()\n",
    "print(sampler.properties)\n",
    "\n",
    "response = sampler.sample(\n",
    "    bqm, time_limit=10,\n",
    "    )\n",
    "print(response)"
   ]
  }
 ],
 "metadata": {
  "kernelspec": {
   "display_name": "Python 3",
   "language": "python",
   "name": "python3"
  },
  "language_info": {
   "codemirror_mode": {
    "name": "ipython",
    "version": 3
   },
   "file_extension": ".py",
   "mimetype": "text/x-python",
   "name": "python",
   "nbconvert_exporter": "python",
   "pygments_lexer": "ipython3",
   "version": "3.7.5"
  }
 },
 "nbformat": 4,
 "nbformat_minor": 5
}
