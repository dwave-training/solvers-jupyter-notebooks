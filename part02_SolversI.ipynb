{
 "cells": [
  {
   "cell_type": "markdown",
   "id": "3399d20e-018d-4d21-99aa-92f0fe32ef56",
   "metadata": {},
   "source": [
    "# Overview of Solvers I\n",
    "\n",
    "## Goal\n",
    "- Get an overview of various solvers in Ocean\n",
    "- Understand the main purpose of each solver\n",
    "- Get familiar with some basic solver parameters"
   ]
  },
  {
   "cell_type": "markdown",
   "id": "0c7cfc2a-3e81-43e0-982f-66c9a64f2b2a",
   "metadata": {},
   "source": [
    "## Abstract Sampler class\n",
    "- All Ocean samplers inherit from the abstract class\n",
    "- It has the main methods `.sample`, `.sample_ising`, `.sample_qubo`, etc.\n",
    "- We would like to focus on using `.sample` method with all solvers"
   ]
  },
  {
   "cell_type": "code",
   "execution_count": null,
   "id": "a445a845-366b-480b-a6b6-060ad9200825",
   "metadata": {},
   "outputs": [],
   "source": [
    "from dimod import Sampler\n",
    "\n",
    "Sampler?"
   ]
  },
  {
   "cell_type": "markdown",
   "id": "0ce44bdd-3c3a-4a0a-a440-80bc4f602c40",
   "metadata": {},
   "source": [
    "## Problem\n",
    "To focus on samplers, we are going to create a simple BQM problem that we will solve using different solvers."
   ]
  },
  {
   "cell_type": "code",
   "execution_count": null,
   "id": "0e5ea1f9-03ab-4b3b-9525-49fb70f6a223",
   "metadata": {},
   "outputs": [],
   "source": [
    "from dimod import BinaryQuadraticModel, to_networkx_graph\n",
    "bqm = BinaryQuadraticModel('SPIN')\n",
    "bqm.add_variable(0, -1)\n",
    "bqm.add_variable(1, -1)\n",
    "bqm.add_variable(4, -1)\n",
    "bqm.add_variable(5, -1)\n",
    "bqm.add_interaction(0, 4, 1.0)\n",
    "bqm.add_interaction(0, 5, 1.0)\n",
    "bqm.add_interaction(1, 4, 1.0)\n",
    "bqm.add_interaction(1, 5, 1.0)\n",
    "\n",
    "import networkx as nx\n",
    "\n",
    "nx.draw(to_networkx_graph(bqm))"
   ]
  },
  {
   "cell_type": "markdown",
   "id": "ceb0737a-34ba-421d-a8d6-a141ccb64018",
   "metadata": {},
   "source": [
    "## ExactSolver\n",
    "- Mainly for debugging purposes\n",
    "- Can solve problems with up to 20 variables (or more) depending on the system"
   ]
  },
  {
   "cell_type": "code",
   "execution_count": null,
   "id": "3b249177-755d-4a3b-8cac-a0f8fea7f1ea",
   "metadata": {},
   "outputs": [],
   "source": [
    "from dimod import ExactSolver\n",
    "\n",
    "solver = ExactSolver()\n",
    "response = solver.sample(bqm)\n",
    "print(response.truncate(10))"
   ]
  },
  {
   "cell_type": "markdown",
   "id": "11c54dbb-a08d-4940-b0b4-e2a418194057",
   "metadata": {},
   "source": [
    "## Simulated Annealing\n",
    "- Historically was the main benchmark against QPU due to the similar underlying principles\n",
    "- Can be a good solver/sampler for small problems\n",
    "- A great tool for debugging purposes\n",
    "- Can be slow for large, dense problems"
   ]
  },
  {
   "cell_type": "code",
   "execution_count": null,
   "id": "24d1088d-f86c-4323-bc65-bab83a904b03",
   "metadata": {},
   "outputs": [],
   "source": [
    "from neal import SimulatedAnnealingSampler\n",
    "\n",
    "sampler = SimulatedAnnealingSampler()\n",
    "\n",
    "response = sampler.sample(bqm, num_reads=10,\n",
    "                          num_sweeps=1000,\n",
    "                          initial_states=None,\n",
    "                          beta_range=[10, 100])\n",
    "print(response)"
   ]
  },
  {
   "cell_type": "code",
   "execution_count": null,
   "id": "f9046e79-f75e-4b95-bbbf-2b01c528424f",
   "metadata": {},
   "outputs": [],
   "source": [
    "sampler.sample?"
   ]
  },
  {
   "cell_type": "code",
   "execution_count": null,
   "id": "806006c4-5b22-4611-a1fd-3d712d79bc6e",
   "metadata": {},
   "outputs": [],
   "source": [
    "from dwave.system import DWaveSampler\n",
    "\n",
    "sampler = DWaveSampler(solver=dict(topology__type='chimera'))\n",
    "\n",
    "response = sampler.sample(\n",
    "    bqm, num_reads=10,\n",
    "    annealing_time=10,\n",
    "    auto_scale=False,\n",
    "    answer_mode='raw'\n",
    "    )\n",
    "print(response)"
   ]
  },
  {
   "cell_type": "code",
   "execution_count": null,
   "id": "95877c9e-630d-442c-b37d-ab8f30865d88",
   "metadata": {},
   "outputs": [],
   "source": [
    "sampler.sample?"
   ]
  },
  {
   "cell_type": "markdown",
   "id": "208f518c-9012-4e96-8cda-c0862e2d5d42",
   "metadata": {},
   "source": [
    "## Some important parameters of the QPU\n",
    "- num_reads=10\n",
    "- annealing_time=10\n",
    "- auto_scale: True or False"
   ]
  },
  {
   "cell_type": "markdown",
   "id": "b24a5d73-b321-4309-b993-e31fab1d59c5",
   "metadata": {},
   "source": [
    "## LeapHybridSampler\n",
    "- The most flexible solver \n",
    "- Can solve large, dense problems efficiently using classical and quantum resources\n",
    "- 20,000 variable fully connected (~200M biases)\n",
    "- 1 million variables with at most 200M biases\n",
    "- Only one parameter - time limit (the minimum time limit is chosen by default)"
   ]
  },
  {
   "cell_type": "code",
   "execution_count": null,
   "id": "e8247525-8e3c-4968-a857-70324417c3ed",
   "metadata": {},
   "outputs": [],
   "source": [
    "from dwave.system import LeapHybridSampler\n",
    "\n",
    "sampler = LeapHybridSampler()\n",
    "print(sampler.properties)\n",
    "\n",
    "response = sampler.sample(\n",
    "    bqm, time_limit=3,\n",
    "    )\n",
    "print(response)"
   ]
  },
  {
   "cell_type": "code",
   "execution_count": null,
   "id": "6986aa16-634b-40fe-a310-4c0bf1876a5d",
   "metadata": {},
   "outputs": [],
   "source": []
  }
 ],
 "metadata": {
  "kernelspec": {
   "display_name": "Python 3 (ipykernel)",
   "language": "python",
   "name": "python3"
  },
  "language_info": {
   "codemirror_mode": {
    "name": "ipython",
    "version": 3
   },
   "file_extension": ".py",
   "mimetype": "text/x-python",
   "name": "python",
   "nbconvert_exporter": "python",
   "pygments_lexer": "ipython3",
   "version": "3.7.5"
  }
 },
 "nbformat": 4,
 "nbformat_minor": 5
}
