{
 "cells": [
  {
   "cell_type": "markdown",
   "id": "1e8740ec-06a5-45b9-82a6-3f09ee9980ce",
   "metadata": {},
   "source": [
    "# Discrete Quadratic Model\n",
    "Or Binary Quadratic model with disjoint set of one-hot constraints\n",
    "\n",
    "Suppose there are $N$ discrete variables (or $N$ groups of binary variables). Each variable $x_i$ has $C_i$ cases. The equation below is the most general form of the energy for a DQM (up to a constant).\n",
    "\n",
    "$$\\Large H = \\sum_{i,k} a_{i,k} x_{i,k} + \\sum_{i,k,j,l} w_{i,k,j,l} x_{i,k} x_{j,l}$$\n",
    "\n",
    "\n",
    "$$\\Large i, j \\in \\left\\{0, 1, 2, ..., N - 1\\right\\}$$ \n",
    "\n",
    "$$\\Large k \\in \\left\\{0, 1, 2, ..., C_i - 1 \\right\\}$$\n",
    "$$\\Large l \\in \\left\\{0, 1, 2, ..., C_j - 1 \\right\\}$$\n",
    "\n",
    "\n",
    "The Hamiltonian above is subject to the following set of constraints.\n",
    "\n",
    "$$\\Large \\sum_{k=0}^{C_i - 1} x_{i,k} = 1 ~~~~~ \\forall i$$\n",
    "\n",
    "By definition, the coefficient $\\large w_{i,k,i,l}$ has no effect on the energy because:\n",
    "\n",
    "$$\\Large x_{i,k}x_{i, l} = 0 ~~~~~ k\\neq l $$\n",
    "\n",
    "\n",
    "(in python implementation, this coefficient is undefined).\n",
    "\n",
    "The total number of binary variables is:\n",
    "\n",
    "$$ N_b = \\sum_i C_i $$"
   ]
  },
  {
   "cell_type": "code",
   "execution_count": null,
   "id": "6ea302a0-5de3-4b0c-a793-d3b791a857ec",
   "metadata": {},
   "outputs": [],
   "source": [
    "from dimod import DQM\n",
    "\n",
    "DQM?"
   ]
  },
  {
   "cell_type": "code",
   "execution_count": null,
   "id": "dc690197-3896-43ee-9f0c-c11544f01481",
   "metadata": {},
   "outputs": [],
   "source": [
    "from dimod import ExactDQMSolver\n",
    "\n",
    "ExactDQMSolver?"
   ]
  },
  {
   "cell_type": "code",
   "execution_count": null,
   "id": "23944dae-f9ab-4972-94f5-db99bb4627e3",
   "metadata": {},
   "outputs": [],
   "source": [
    "from dwave.system import LeapHybridDQMSampler\n",
    "\n",
    "LeapHybridDQMSampler?"
   ]
  }
 ],
 "metadata": {
  "kernelspec": {
   "display_name": "Python 3 (ipykernel)",
   "language": "python",
   "name": "python3"
  },
  "language_info": {
   "codemirror_mode": {
    "name": "ipython",
    "version": 3
   },
   "file_extension": ".py",
   "mimetype": "text/x-python",
   "name": "python",
   "nbconvert_exporter": "python",
   "pygments_lexer": "ipython3",
   "version": "3.7.5"
  }
 },
 "nbformat": 4,
 "nbformat_minor": 5
}
