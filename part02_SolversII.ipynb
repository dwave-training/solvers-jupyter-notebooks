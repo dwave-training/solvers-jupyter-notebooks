{
 "cells": [
  {
   "cell_type": "markdown",
   "id": "3399d20e-018d-4d21-99aa-92f0fe32ef56",
   "metadata": {},
   "source": [
    "# Overview of Solvers II\n",
    "\n",
    "## Goal\n",
    "- Get an overview of various solvers in Ocean\n",
    "- Understand the main purpose of each solver\n",
    "- Get familiar with some basic solver parameters\n",
    "- Get familiar with embedding"
   ]
  },
  {
   "cell_type": "markdown",
   "id": "0ce44bdd-3c3a-4a0a-a440-80bc4f602c40",
   "metadata": {},
   "source": [
    "## Problem\n",
    "To focus on sampler, we are going to create a simple BQM problem that we will solve using different solvers."
   ]
  },
  {
   "cell_type": "code",
   "execution_count": 7,
   "id": "0e5ea1f9-03ab-4b3b-9525-49fb70f6a223",
   "metadata": {},
   "outputs": [
    {
     "data": {
      "image/png": "[encoded data removed]",
      "text/plain": [
       "<Figure size 432x288 with 1 Axes>"
      ]
     },
     "metadata": {},
     "output_type": "display_data"
    }
   ],
   "source": [
    "from dimod import AdjVectorBQM\n",
    "bqm = AdjVectorBQM('SPIN')\n",
    "bqm.add_variable(0, -1)\n",
    "bqm.add_variable(1, -1)\n",
    "bqm.add_variable(4, -1)\n",
    "bqm.add_variable(5, -1)\n",
    "bqm.add_interaction(0, 4, 1.0)\n",
    "bqm.add_interaction(0, 5, 1.0)\n",
    "bqm.add_interaction(1, 4, 1.0)\n",
    "bqm.add_interaction(1, 5, 1.0)\n",
    "bqm.add_interaction(0, 1, 1.0)\n",
    "bqm.add_interaction(4, 5, 1.0)\n",
    "\n",
    "import networkx as nx\n",
    "\n",
    "nx.draw(bqm.to_networkx_graph())"
   ]
  },
  {
   "cell_type": "markdown",
   "id": "ceb0737a-34ba-421d-a8d6-a141ccb64018",
   "metadata": {},
   "source": [
    "## ExactSolver\n",
    "- Mainly for debugging purposes\n",
    "- Can solve problems with up to 20 variables (or more) depending on the system"
   ]
  },
  {
   "cell_type": "code",
   "execution_count": 8,
   "id": "3b249177-755d-4a3b-8cac-a0f8fea7f1ea",
   "metadata": {},
   "outputs": [
    {
     "name": "stdout",
     "output_type": "stream",
     "text": [
      "   0  1  4  5 energy num_oc.\n",
      "0 +1 +1 -1 -1   -2.0       1\n",
      "1 -1 +1 +1 -1   -2.0       1\n",
      "2 +1 +1 +1 -1   -2.0       1\n",
      "3 +1 -1 +1 -1   -2.0       1\n",
      "4 -1 -1 +1 +1   -2.0       1\n",
      "5 +1 -1 +1 +1   -2.0       1\n",
      "6 -1 +1 +1 +1   -2.0       1\n",
      "7 -1 +1 -1 +1   -2.0       1\n",
      "8 +1 +1 -1 +1   -2.0       1\n",
      "9 +1 -1 -1 +1   -2.0       1\n",
      "['SPIN', 10 rows, 10 samples, 4 variables]\n"
     ]
    }
   ],
   "source": [
    "from dimod import ExactSolver\n",
    "\n",
    "solver = ExactSolver()\n",
    "response = solver.sample(bqm)\n",
    "print(response.truncate(10))"
   ]
  },
  {
   "cell_type": "markdown",
   "id": "a46318e2-c554-4223-b16c-3bc4d4994540",
   "metadata": {},
   "source": [
    "## DWaveSampler\n",
    "- The main interface to use the quantum annealing processor\n",
    "- It can select different quantum processors including the most recent Advantage system\n",
    "- It can solve optimization problems casted as an Ising Hamiltonian\n",
    "- The solver API allow submitting more abstract problems forms such as QUBO and BQM"
   ]
  },
  {
   "cell_type": "code",
   "execution_count": 9,
   "id": "806006c4-5b22-4611-a1fd-3d712d79bc6e",
   "metadata": {},
   "outputs": [
    {
     "ename": "BinaryQuadraticModelStructureError",
     "evalue": "Problem graph incompatible with solver.",
     "output_type": "error",
     "traceback": [
      "\u001b[0;31m---------------------------------------------------------------------------\u001b[0m",
      "\u001b[0;31mBinaryQuadraticModelStructureError\u001b[0m        Traceback (most recent call last)",
      "\u001b[0;32m<ipython-input-9-283923e6370c>\u001b[0m in \u001b[0;36m<module>\u001b[0;34m\u001b[0m\n\u001b[1;32m      7\u001b[0m     \u001b[0mannealing_time\u001b[0m\u001b[0;34m=\u001b[0m\u001b[0;36m10\u001b[0m\u001b[0;34m,\u001b[0m\u001b[0;34m\u001b[0m\u001b[0;34m\u001b[0m\u001b[0m\n\u001b[1;32m      8\u001b[0m     \u001b[0mauto_scale\u001b[0m\u001b[0;34m=\u001b[0m\u001b[0;32mFalse\u001b[0m\u001b[0;34m,\u001b[0m\u001b[0;34m\u001b[0m\u001b[0;34m\u001b[0m\u001b[0m\n\u001b[0;32m----> 9\u001b[0;31m     \u001b[0manswer_mode\u001b[0m\u001b[0;34m=\u001b[0m\u001b[0;34m'raw'\u001b[0m\u001b[0;34m\u001b[0m\u001b[0;34m\u001b[0m\u001b[0m\n\u001b[0m\u001b[1;32m     10\u001b[0m     )\n\u001b[1;32m     11\u001b[0m \u001b[0mprint\u001b[0m\u001b[0;34m(\u001b[0m\u001b[0mresponse\u001b[0m\u001b[0;34m)\u001b[0m\u001b[0;34m\u001b[0m\u001b[0;34m\u001b[0m\u001b[0m\n",
      "\u001b[0;32m~/project/CDL_Training/venv/envs/lib/python3.7/site-packages/dwave/system/samplers/dwave_sampler.py\u001b[0m in \u001b[0;36mwrapper\u001b[0;34m(sampler, *args, **kwargs)\u001b[0m\n\u001b[1;32m     48\u001b[0m         \u001b[0;32mwhile\u001b[0m \u001b[0;32mTrue\u001b[0m\u001b[0;34m:\u001b[0m\u001b[0;34m\u001b[0m\u001b[0;34m\u001b[0m\u001b[0m\n\u001b[1;32m     49\u001b[0m             \u001b[0;32mtry\u001b[0m\u001b[0;34m:\u001b[0m\u001b[0;34m\u001b[0m\u001b[0;34m\u001b[0m\u001b[0m\n\u001b[0;32m---> 50\u001b[0;31m                 \u001b[0;32mreturn\u001b[0m \u001b[0mf\u001b[0m\u001b[0;34m(\u001b[0m\u001b[0msampler\u001b[0m\u001b[0;34m,\u001b[0m \u001b[0;34m*\u001b[0m\u001b[0margs\u001b[0m\u001b[0;34m,\u001b[0m \u001b[0;34m**\u001b[0m\u001b[0mkwargs\u001b[0m\u001b[0;34m)\u001b[0m\u001b[0;34m\u001b[0m\u001b[0;34m\u001b[0m\u001b[0m\n\u001b[0m\u001b[1;32m     51\u001b[0m             \u001b[0;32mexcept\u001b[0m \u001b[0mSolverOfflineError\u001b[0m \u001b[0;32mas\u001b[0m \u001b[0merr\u001b[0m\u001b[0;34m:\u001b[0m\u001b[0;34m\u001b[0m\u001b[0;34m\u001b[0m\u001b[0m\n\u001b[1;32m     52\u001b[0m                 \u001b[0;32mif\u001b[0m \u001b[0;32mnot\u001b[0m \u001b[0msampler\u001b[0m\u001b[0;34m.\u001b[0m\u001b[0mfailover\u001b[0m\u001b[0;34m:\u001b[0m\u001b[0;34m\u001b[0m\u001b[0;34m\u001b[0m\u001b[0m\n",
      "\u001b[0;32m~/project/CDL_Training/venv/envs/lib/python3.7/site-packages/dwave/system/samplers/dwave_sampler.py\u001b[0m in \u001b[0;36msample\u001b[0;34m(self, bqm, warnings, **kwargs)\u001b[0m\n\u001b[1;32m    349\u001b[0m                 solver.edges.issuperset(bqm.quadratic)):\n\u001b[1;32m    350\u001b[0m             \u001b[0mmsg\u001b[0m \u001b[0;34m=\u001b[0m \u001b[0;34m\"Problem graph incompatible with solver.\"\u001b[0m\u001b[0;34m\u001b[0m\u001b[0;34m\u001b[0m\u001b[0m\n\u001b[0;32m--> 351\u001b[0;31m             \u001b[0;32mraise\u001b[0m \u001b[0mBinaryQuadraticModelStructureError\u001b[0m\u001b[0;34m(\u001b[0m\u001b[0mmsg\u001b[0m\u001b[0;34m)\u001b[0m\u001b[0;34m\u001b[0m\u001b[0;34m\u001b[0m\u001b[0m\n\u001b[0m\u001b[1;32m    352\u001b[0m \u001b[0;34m\u001b[0m\u001b[0m\n\u001b[1;32m    353\u001b[0m         \u001b[0mfuture\u001b[0m \u001b[0;34m=\u001b[0m \u001b[0msolver\u001b[0m\u001b[0;34m.\u001b[0m\u001b[0msample_bqm\u001b[0m\u001b[0;34m(\u001b[0m\u001b[0mbqm\u001b[0m\u001b[0;34m,\u001b[0m \u001b[0;34m**\u001b[0m\u001b[0mkwargs\u001b[0m\u001b[0;34m)\u001b[0m\u001b[0;34m\u001b[0m\u001b[0;34m\u001b[0m\u001b[0m\n",
      "\u001b[0;31mBinaryQuadraticModelStructureError\u001b[0m: Problem graph incompatible with solver."
     ]
    }
   ],
   "source": [
    "from dwave.system import DWaveSampler\n",
    "\n",
    "sampler = DWaveSampler()\n",
    "\n",
    "response = sampler.sample(\n",
    "    bqm, num_reads=10,\n",
    "    annealing_time=10,\n",
    "    auto_scale=False,\n",
    "    answer_mode='raw'\n",
    "    )\n",
    "print(response)"
   ]
  },
  {
   "cell_type": "markdown",
   "id": "67a6d4a9-fef4-4e36-a2cf-cd729f3bcce3",
   "metadata": {},
   "source": [
    "## What happened?\n",
    "- The graph of qubit connectivity is not fully connect. \n",
    "- Some qubit-qubit interactions do not exist\n",
    "- If the problem graph has interactions that don't exist, we cannot solve that problem directly\n",
    "- What should we do?"
   ]
  },
  {
   "cell_type": "markdown",
   "id": "25ceab8c-5e1c-402c-b32c-82524b6249e1",
   "metadata": {},
   "source": [
    "## EmbeddingComposite\n",
    "- As mentioned above, the graph of a problem and the processor may not be compatible\n",
    "- One may use a chain of qubits that are strongly connect to act as a single qubit\n",
    "- This is a complicated process that requires it's own hour of lecture\n",
    "- The `EmbeddingComposite` abstracts away all the complications"
   ]
  },
  {
   "cell_type": "code",
   "execution_count": 10,
   "id": "d86cc495-3373-46f7-a940-21af146016d7",
   "metadata": {},
   "outputs": [
    {
     "name": "stdout",
     "output_type": "stream",
     "text": [
      "   0  1  4  5 energy num_oc. chain_.\n",
      "0 -1 +1 +1 -1   -2.0       1     0.0\n",
      "1 -1 +1 +1 +1   -2.0       1     0.0\n",
      "2 +1 +1 +1 -1   -2.0       1     0.0\n",
      "3 -1 +1 +1 +1   -2.0       1     0.0\n",
      "4 +1 -1 +1 -1   -2.0       1     0.0\n",
      "5 +1 -1 +1 -1   -2.0       1     0.0\n",
      "6 +1 +1 -1 -1   -2.0       1     0.0\n",
      "7 +1 -1 -1 +1   -2.0       1     0.0\n",
      "8 +1 +1 -1 -1   -2.0       1     0.0\n",
      "9 -1 -1 +1 +1   -2.0       1     0.0\n",
      "['SPIN', 10 rows, 10 samples, 4 variables]\n"
     ]
    }
   ],
   "source": [
    "from dwave.system import EmbeddingComposite\n",
    "from dwave.system import DWaveSampler\n",
    "\n",
    "sampler = EmbeddingComposite(DWaveSampler())\n",
    "\n",
    "response = sampler.sample(\n",
    "    bqm, num_reads=10,\n",
    "    annealing_time=10,\n",
    "    auto_scale=True,\n",
    "    answer_mode='raw',\n",
    "    return_embedding=True\n",
    "    )\n",
    "print(response)"
   ]
  },
  {
   "cell_type": "code",
   "execution_count": 15,
   "id": "9aeeb8ea-23fe-4bc2-975c-4709081a175b",
   "metadata": {},
   "outputs": [
    {
     "name": "stdout",
     "output_type": "stream",
     "text": [
      "{0: (1964, 1960), 1: (1966,), 4: (1962, 1965), 5: (1963,)}\n"
     ]
    }
   ],
   "source": [
    "print(response.info.get('embedding_context').get('embedding'))"
   ]
  },
  {
   "cell_type": "markdown",
   "id": "fd4a0d55-794a-48b3-8d0f-76a03164e1c2",
   "metadata": {},
   "source": [
    "## DWaveCliqueSampler\n",
    "- More abstractions\n",
    "- If you have a dense or fully connected problem, it's much better to use a clique sampler than heuristic embedding\n",
    "- Even more abstraction $\\rightarrow$ no need to instantiate a sampler"
   ]
  },
  {
   "cell_type": "code",
   "execution_count": 5,
   "id": "ac8f1a20-0881-44db-b33d-5df5776caee5",
   "metadata": {},
   "outputs": [
    {
     "name": "stdout",
     "output_type": "stream",
     "text": [
      "   0  1  4  5 energy num_oc. chain_.\n",
      "0 -1 -1 +1 +1   -2.0       1     0.0\n",
      "1 +1 -1 -1 +1   -2.0       1     0.0\n",
      "2 +1 -1 +1 -1   -2.0       1     0.0\n",
      "3 +1 -1 +1 -1   -2.0       1     0.0\n",
      "4 +1 +1 -1 -1   -2.0       1     0.0\n",
      "5 +1 -1 -1 +1   -2.0       1     0.0\n",
      "6 -1 +1 +1 -1   -2.0       1     0.0\n",
      "7 -1 -1 +1 +1   -2.0       1     0.0\n",
      "8 +1 +1 -1 -1   -2.0       1     0.0\n",
      "9 -1 +1 -1 +1   -2.0       1     0.0\n",
      "['SPIN', 10 rows, 10 samples, 4 variables]\n"
     ]
    }
   ],
   "source": [
    "from dwave.system import DWaveCliqueSampler\n",
    "\n",
    "sampler = DWaveCliqueSampler()\n",
    "\n",
    "response = sampler.sample(\n",
    "    bqm, num_reads=10,\n",
    "    annealing_time=10,\n",
    "    answer_mode='raw'\n",
    "    )\n",
    "print(response)"
   ]
  },
  {
   "cell_type": "code",
   "execution_count": 6,
   "id": "e8247525-8e3c-4968-a857-70324417c3ed",
   "metadata": {},
   "outputs": [
    {
     "name": "stdout",
     "output_type": "stream",
     "text": [
      "{'minimum_time_limit': [[1, 3.0], [1024, 3.0], [4096, 10.0], [10000, 40.0], [30000, 200.0], [100000, 600.0], [1000000, 600.0]], 'maximum_time_limit_hrs': 24.0, 'maximum_number_of_variables': 1000000, 'maximum_number_of_biases': 200000000, 'parameters': {'time_limit': 'Maximum requested runtime in seconds.'}, 'supported_problem_types': ['bqm'], 'category': 'hybrid', 'version': '2.0', 'quota_conversion_rate': 20}\n",
      "   0  1  4  5 energy num_oc.\n",
      "0 -1 +1 -1 +1   -2.0       1\n",
      "['SPIN', 1 rows, 1 samples, 4 variables]\n"
     ]
    }
   ],
   "source": [
    "from dwave.system import LeapHybridSampler\n",
    "\n",
    "sampler = LeapHybridSampler()\n",
    "print(sampler.properties)\n",
    "\n",
    "response = sampler.sample(\n",
    "    bqm, time_limit=10,\n",
    "    )\n",
    "print(response)"
   ]
  }
 ],
 "metadata": {
  "kernelspec": {
   "display_name": "Python 3",
   "language": "python",
   "name": "python3"
  },
  "language_info": {
   "codemirror_mode": {
    "name": "ipython",
    "version": 3
   },
   "file_extension": ".py",
   "mimetype": "text/x-python",
   "name": "python",
   "nbconvert_exporter": "python",
   "pygments_lexer": "ipython3",
   "version": "3.7.5"
  }
 },
 "nbformat": 4,
 "nbformat_minor": 5
}
