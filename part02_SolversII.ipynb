{
 "cells": [
  {
   "cell_type": "markdown",
   "id": "3399d20e-018d-4d21-99aa-92f0fe32ef56",
   "metadata": {},
   "source": [
    "# Overview of Solvers II\n",
    "\n",
    "## Goal\n",
    "- Get an overview of various solvers in Ocean\n",
    "- Understand the main purpose of each solver\n",
    "- Get familiar with some basic solver parameters\n",
    "- Get familiar with embedding"
   ]
  },
  {
   "cell_type": "markdown",
   "id": "0ce44bdd-3c3a-4a0a-a440-80bc4f602c40",
   "metadata": {},
   "source": [
    "## Problem\n",
    "To focus on sampler, we are going to create a simple BQM problem that we will solve using different solvers."
   ]
  },
  {
   "cell_type": "code",
   "execution_count": null,
   "id": "0e5ea1f9-03ab-4b3b-9525-49fb70f6a223",
   "metadata": {},
   "outputs": [],
   "source": [
    "from dimod import AdjVectorBQM\n",
    "bqm = AdjVectorBQM('SPIN')\n",
    "bqm.add_variable(0, -1)\n",
    "bqm.add_variable(1, -1)\n",
    "bqm.add_variable(4, -1)\n",
    "bqm.add_variable(5, -1)\n",
    "bqm.add_interaction(0, 4, 1.0)\n",
    "bqm.add_interaction(0, 5, 1.0)\n",
    "bqm.add_interaction(1, 4, 1.0)\n",
    "bqm.add_interaction(1, 5, 1.0)\n",
    "bqm.add_interaction(0, 1, 1.0)\n",
    "bqm.add_interaction(4, 5, 1.0)\n",
    "\n",
    "import networkx as nx\n",
    "\n",
    "nx.draw(to_networkx_graph(bqm))"
   ]
  },
  {
   "cell_type": "markdown",
   "id": "ceb0737a-34ba-421d-a8d6-a141ccb64018",
   "metadata": {},
   "source": [
    "## ExactSolver\n",
    "- Mainly for debugging purposes\n",
    "- Can solve problems with up to 20 variables (or more) depending on the system"
   ]
  },
  {
   "cell_type": "code",
   "execution_count": null,
   "id": "3b249177-755d-4a3b-8cac-a0f8fea7f1ea",
   "metadata": {},
   "outputs": [],
   "source": [
    "from dimod import ExactSolver\n",
    "\n",
    "solver = ExactSolver()\n",
    "response = solver.sample(bqm)\n",
    "print(response.truncate(10))"
   ]
  },
  {
   "cell_type": "markdown",
   "id": "a46318e2-c554-4223-b16c-3bc4d4994540",
   "metadata": {},
   "source": [
    "## DWaveSampler\n",
    "- The main interface to use the quantum annealing processor\n",
    "- It can select different quantum processors including the most recent Advantage system\n",
    "- It can solve optimization problems casted as an Ising Hamiltonian\n",
    "- The solver API allow submitting more abstract problems forms such as QUBO and BQM"
   ]
  },
  {
   "cell_type": "code",
   "execution_count": null,
   "id": "806006c4-5b22-4611-a1fd-3d712d79bc6e",
   "metadata": {},
   "outputs": [],
   "source": [
    "from dwave.system import DWaveSampler\n",
    "\n",
    "sampler = DWaveSampler()\n",
    "\n",
    "response = sampler.sample(\n",
    "    bqm, num_reads=10,\n",
    "    annealing_time=10,\n",
    "    auto_scale=False,\n",
    "    answer_mode='raw'\n",
    "    )\n",
    "print(response)"
   ]
  },
  {
   "cell_type": "markdown",
   "id": "67a6d4a9-fef4-4e36-a2cf-cd729f3bcce3",
   "metadata": {},
   "source": [
    "## What happened?\n",
    "- The graph of qubit connectivity is not fully connected. \n",
    "- Some qubit-qubit interactions do not exist\n",
    "- If the problem graph has interactions that don't exist, we cannot solve that problem directly\n",
    "- What should we do?"
   ]
  },
  {
   "cell_type": "markdown",
   "id": "25ceab8c-5e1c-402c-b32c-82524b6249e1",
   "metadata": {},
   "source": [
    "## EmbeddingComposite\n",
    "- As mentioned above, the graph of a problem and the processor may not be compatible\n",
    "- One may use a chain of qubits that are strongly connected to act as a single qubit\n",
    "- This is a complicated process that requires an hour long lecture\n",
    "- The `EmbeddingComposite` abstracts away all the complications"
   ]
  },
  {
   "cell_type": "code",
   "execution_count": null,
   "id": "d86cc495-3373-46f7-a940-21af146016d7",
   "metadata": {},
   "outputs": [],
   "source": [
    "from dwave.system import EmbeddingComposite\n",
    "from dwave.system import DWaveSampler\n",
    "\n",
    "sampler = EmbeddingComposite(DWaveSampler())\n",
    "\n",
    "response = sampler.sample(\n",
    "    bqm, num_reads=10,\n",
    "    annealing_time=10,\n",
    "    auto_scale=True,\n",
    "    answer_mode='raw',\n",
    "    return_embedding=True\n",
    "    )\n",
    "print(response)"
   ]
  },
  {
   "cell_type": "code",
   "execution_count": null,
   "id": "9aeeb8ea-23fe-4bc2-975c-4709081a175b",
   "metadata": {},
   "outputs": [],
   "source": [
    "print(response.info.get('embedding_context').get('embedding'))"
   ]
  },
  {
   "cell_type": "markdown",
   "id": "fd4a0d55-794a-48b3-8d0f-76a03164e1c2",
   "metadata": {},
   "source": [
    "## DWaveCliqueSampler\n",
    "- More abstractions\n",
    "- If you have a dense or fully connected problem, it's much better to use a clique sampler than heuristic embedding because heuristic embedding may not find efficient embeddings (e.g. it may find embeddings with larger chains and uneven chain length).\n",
    "- Even more abstraction $\\rightarrow$ `DWaveCliqueSampler` is a standalone sampler"
   ]
  },
  {
   "cell_type": "code",
   "execution_count": null,
   "id": "ac8f1a20-0881-44db-b33d-5df5776caee5",
   "metadata": {},
   "outputs": [],
   "source": [
    "from dwave.system import DWaveCliqueSampler\n",
    "\n",
    "sampler = DWaveCliqueSampler()\n",
    "\n",
    "response = sampler.sample(\n",
    "    bqm, num_reads=10,\n",
    "    annealing_time=10,\n",
    "    answer_mode='raw'\n",
    "    )\n",
    "print(response)"
   ]
  },
  {
   "cell_type": "markdown",
   "id": "e5db35bd-7f6d-44bd-a4ed-a1cd76a45a62",
   "metadata": {},
   "source": [
    "## LeapHybridSampler\n",
    "- The most flexible solver \n",
    "- Can solve large, dense problems efficiently using classical and quantum resources\n",
    "- 20,000 variable fully connected (~200M biases)\n",
    "- 1 million variables with at most 200M biases\n",
    "- Only one parameter - time limit (the minimum time limit is chosen by default)"
   ]
  },
  {
   "cell_type": "code",
   "execution_count": null,
   "id": "e8247525-8e3c-4968-a857-70324417c3ed",
   "metadata": {},
   "outputs": [],
   "source": [
    "from dwave.system import LeapHybridSampler\n",
    "\n",
    "sampler = LeapHybridSampler()\n",
    "print(sampler.properties)\n",
    "\n",
    "response = sampler.sample(\n",
    "    bqm, time_limit=10,\n",
    "    )\n",
    "print(response)"
   ]
  }
 ],
 "metadata": {
  "kernelspec": {
   "display_name": "Python 3",
   "language": "python",
   "name": "python3"
  },
  "language_info": {
   "codemirror_mode": {
    "name": "ipython",
    "version": 3
   },
   "file_extension": ".py",
   "mimetype": "text/x-python",
   "name": "python",
   "nbconvert_exporter": "python",
   "pygments_lexer": "ipython3",
   "version": "3.7.5"
  }
 },
 "nbformat": 4,
 "nbformat_minor": 5
}
