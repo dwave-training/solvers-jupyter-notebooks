{
 "cells": [
  {
   "cell_type": "markdown",
   "id": "cf77d787-ec87-41a3-b0a2-fcc1c6aa2680",
   "metadata": {},
   "source": [
    "# Clustering \n",
    "In this module we will use discrete optimization for clustering of points scattered in a two dimensional euclidean space."
   ]
  },
  {
   "cell_type": "markdown",
   "id": "fec06b86-9fdd-4a77-92d7-a219f838d22f",
   "metadata": {},
   "source": [
    "Let's put together a function to generate points."
   ]
  },
  {
   "cell_type": "code",
   "execution_count": 3,
   "id": "507fe866-e280-48fd-b009-afc44d23fa0c",
   "metadata": {},
   "outputs": [],
   "source": [
    "import numpy as np\n",
    "\n",
    "def generate_points(centers, counts, scales):\n",
    "    \"\"\"Generate points in a two-dimensional space\n",
    "    \n",
    "    Args:\n",
    "        centers: list of pairs\n",
    "        counts: list of number of points in each cluster\n",
    "        scales: standard deviation of points from each center\n",
    "        \n",
    "    Returns:\n",
    "        points: list of points (with size equal to the sum of counts)\n",
    "    \n",
    "    \"\"\"\n",
    "    centers = np.array(centers)\n",
    "    points = np.zeros([sum(counts), 2])\n",
    "    start = 0\n",
    "    for center, count, scale in zip(centers, counts, scales):\n",
    "        points[start:start + count] = center + np.random.normal(0, scale, size=[count, 2])\n",
    "        start += count\n",
    "    return points"
   ]
  },
  {
   "cell_type": "code",
   "execution_count": 6,
   "id": "4109a22e-5b74-4294-b2b6-c97d78991583",
   "metadata": {},
   "outputs": [
    {
     "data": {
      "text/plain": [
       "<matplotlib.collections.PathCollection at 0x7f42252f4e50>"
      ]
     },
     "execution_count": 6,
     "metadata": {},
     "output_type": "execute_result"
    },
    {
     "data": {
      "image/png": "[encoded data removed]",
      "text/plain": [
       "<Figure size 432x288 with 1 Axes>"
      ]
     },
     "metadata": {
      "needs_background": "light"
     },
     "output_type": "display_data"
    }
   ],
   "source": [
    "# three clusters with 2 points each\n",
    "counts = [2, 2, 2]\n",
    "\n",
    "num_points = sum(counts)\n",
    "num_clusters = len(counts)\n",
    "\n",
    "points = generate_points([(-1, 1), (1, 1), (0, 2)], counts, [0.1, 0.1, 0.1])\n",
    "\n",
    "# pairwise distance of each pair of points\n",
    "distances = {(i, j): np.sqrt(np.sum(np.square(points[i] - points[j])))\n",
    "            for i in range(num_points)\n",
    "            for j in range(num_points)\n",
    "            if i != j\n",
    "            }\n",
    "\n",
    "one_hot_penalty = 10\n",
    "\n",
    "import matplotlib.pyplot as plt\n",
    "plt.scatter(*zip(*points))"
   ]
  },
  {
   "cell_type": "markdown",
   "id": "073825e2-6ecf-4812-9fb4-48ddd0da89a1",
   "metadata": {},
   "source": [
    "# Create BQM object\n",
    "\n",
    "Create the BQM object\n",
    "- decision variables: xij = 1 if the point i is assigned to the cluster j otherwise 0\n",
    "- total number of variables: number of points times number of clusters\n",
    "- there is no initial linear bias since all assigments are equal\n"
   ]
  },
  {
   "cell_type": "code",
   "execution_count": 33,
   "id": "29410e3c-a9c5-4cbd-88fa-c5a2df9def82",
   "metadata": {},
   "outputs": [],
   "source": [
    "from dimod import AdjVectorBQM\n",
    "\n",
    "bqm = AdjVectorBQM('BINARY')\n",
    "\n",
    "x = {(i, j): bqm.add_variable((f'x_{i}', j), 0)\n",
    "     for i in range(num_points)\n",
    "     for j in range(num_clusters)\n",
    "     }"
   ]
  },
  {
   "cell_type": "markdown",
   "id": "e32b57cd-f6db-42f8-9799-fbddc465244b",
   "metadata": {},
   "source": [
    "- pairwise penalty exist between every pair of points if they belong to the same cluster (otherwise no penalty and no reward)\n",
    "- the penalty is proportional (or equal) to the distance"
   ]
  },
  {
   "cell_type": "code",
   "execution_count": 34,
   "id": "08997722-9b58-4ec7-8a1b-498b9808b72f",
   "metadata": {},
   "outputs": [],
   "source": [
    "from itertools import combinations\n",
    "\n",
    "for i, j in combinations(range(num_points), r=2):\n",
    "    for k in range(num_clusters):\n",
    "        bqm.add_interaction(x[i, k], x[j, k], distances[i, j])"
   ]
  },
  {
   "cell_type": "markdown",
   "id": "83ed2032-5006-402b-942b-5912131d4194",
   "metadata": {},
   "source": [
    "# Add constraint\n",
    "- Each point can only be assigned to one cluster\n",
    "- The sum of xij for all values of j (all possible clusters) amounts to one"
   ]
  },
  {
   "cell_type": "code",
   "execution_count": 35,
   "id": "f0eaa078-cd48-4a00-82ad-f6db378ffbb2",
   "metadata": {},
   "outputs": [],
   "source": [
    "for i in range(num_points):\n",
    "    bqm.add_linear_equality_constraint(\n",
    "        [(x[i, k], 1.0) for k in range(num_clusters)],\n",
    "        constant=-1.0,\n",
    "        lagrange_multiplier=one_hot_penalty\n",
    "    )"
   ]
  },
  {
   "cell_type": "markdown",
   "id": "0c7333bf-3c22-48dc-b417-29db2e51d752",
   "metadata": {},
   "source": [
    "# Result"
   ]
  },
  {
   "cell_type": "code",
   "execution_count": 36,
   "id": "733fcf1e-b4b4-4702-bf61-619ea4ed99f4",
   "metadata": {},
   "outputs": [
    {
     "name": "stdout",
     "output_type": "stream",
     "text": [
      "  ('x_0', 0) ('x_0', 1) ('x_0', 2) ('x_1', 0) ... ('x_5', 2)   energy num_oc.\n",
      "0          0          1          0          0 ...          1 0.477401       1\n",
      "1          0          1          0          0 ...          1 0.477401       1\n",
      "2          0          1          0          0 ...          1 0.477401       1\n",
      "['BINARY', 3 rows, 3 samples, 18 variables]\n"
     ]
    }
   ],
   "source": [
    "from neal import SimulatedAnnealingSampler\n",
    "\n",
    "response = SimulatedAnnealingSampler().sample(bqm, num_reads=100, num_sweeps=10000).truncate(3)\n",
    "print(response)"
   ]
  },
  {
   "cell_type": "code",
   "execution_count": 38,
   "id": "799f4d50-0bed-42d6-8bde-b9b33779e493",
   "metadata": {},
   "outputs": [
    {
     "name": "stdout",
     "output_type": "stream",
     "text": [
      "{'x_0': 1, 'x_1': 1, 'x_2': 0, 'x_3': 0, 'x_4': 2, 'x_5': 2}\n"
     ]
    }
   ],
   "source": [
    "best_solution = response.first.sample\n",
    "assignments = {point: cluster for (point, cluster), value in best_solution.items() if value}\n",
    "\n",
    "print(assignments)"
   ]
  }
 ],
 "metadata": {
  "kernelspec": {
   "display_name": "Python 3",
   "language": "python",
   "name": "python3"
  },
  "language_info": {
   "codemirror_mode": {
    "name": "ipython",
    "version": 3
   },
   "file_extension": ".py",
   "mimetype": "text/x-python",
   "name": "python",
   "nbconvert_exporter": "python",
   "pygments_lexer": "ipython3",
   "version": "3.7.5"
  }
 },
 "nbformat": 4,
 "nbformat_minor": 5
}
