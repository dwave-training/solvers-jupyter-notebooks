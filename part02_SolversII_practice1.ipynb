{
 "cells": [
  {
   "cell_type": "markdown",
   "id": "eddb92a5-ff9d-4007-8d07-156f6e90ca34",
   "metadata": {},
   "source": [
    "# Practice set for Solvers II"
   ]
  },
  {
   "cell_type": "markdown",
   "id": "3c02161f-5126-42cb-acba-eea18730bec4",
   "metadata": {},
   "source": [
    "- Import `BinaryQuadraticModel` or `BQM` \n",
    "- Instantiate an empty BQM object with variable type `dimod.SPIN`"
   ]
  },
  {
   "cell_type": "code",
   "execution_count": null,
   "id": "14cbdf47-158c-4a94-9cec-c40b55582569",
   "metadata": {},
   "outputs": [],
   "source": [
    "# your code here"
   ]
  },
  {
   "cell_type": "markdown",
   "id": "38d38553-1868-4e54-a8c8-6e6d7ada594d",
   "metadata": {},
   "source": [
    "- Import `DWaveSampler`\n",
    "- Import `EmbeddingComposite`"
   ]
  },
  {
   "cell_type": "code",
   "execution_count": null,
   "id": "ebc0936b-c944-4993-92a9-8b4e31c0f12f",
   "metadata": {},
   "outputs": [],
   "source": [
    "# your code here"
   ]
  },
  {
   "cell_type": "markdown",
   "id": "e6bb63c4-ca1e-442c-b5ed-50b5236fa0ea",
   "metadata": {},
   "source": [
    "Add three variables `x`, `y`, and `z` to the bqm."
   ]
  },
  {
   "cell_type": "code",
   "execution_count": null,
   "id": "85c09d03-11aa-44f3-b92c-351f372c85cf",
   "metadata": {},
   "outputs": [],
   "source": [
    "# your code here"
   ]
  },
  {
   "cell_type": "markdown",
   "id": "f3d572da-2126-4c8a-a984-5e5019d975c0",
   "metadata": {},
   "source": [
    "Add the correct linear and quadratic biases using `.add_variable` and `.add_interaction` methods to add the following objective:\n",
    "\n",
    "$$H = x + y + z - 2xy - 2xz - 2yz$$"
   ]
  },
  {
   "cell_type": "code",
   "execution_count": null,
   "id": "9732f0cb-f30f-46b0-ab02-27211b70de91",
   "metadata": {},
   "outputs": [],
   "source": [
    "# your code here"
   ]
  },
  {
   "cell_type": "markdown",
   "id": "7c0248e0-5f84-4f4b-babc-b8274346ee68",
   "metadata": {},
   "source": [
    "Instantiate a sampler object that is a composite of `DWaveSampler` and `EmbeddingComposite`. Use `.sample` method to solve the constructed bqm object. Store the results in an object called `sampleset`. Make sure to set the parameter `return_embedding` to `True` and use `num_reads` to set the number of samples returned by the QPU (10-100 should be sufficient)."
   ]
  },
  {
   "cell_type": "code",
   "execution_count": null,
   "id": "a5ed524b-618a-441c-991c-48a2c2d91af4",
   "metadata": {},
   "outputs": [],
   "source": [
    "# your code here"
   ]
  },
  {
   "cell_type": "markdown",
   "id": "ce6f649f-e06c-4fa0-9f39-4e9e667b021c",
   "metadata": {},
   "source": [
    "Print the best solution and energy using the method `.first`. Is the solution what you expected?"
   ]
  },
  {
   "cell_type": "code",
   "execution_count": null,
   "id": "bff3dec5-b913-4605-8a43-772fb4fa0850",
   "metadata": {},
   "outputs": [],
   "source": [
    "# your code here"
   ]
  },
  {
   "cell_type": "markdown",
   "id": "558ae65a-2490-45ad-9f11-402f0ede53eb",
   "metadata": {},
   "source": [
    "Get the embedding using the following command."
   ]
  },
  {
   "cell_type": "code",
   "execution_count": null,
   "id": "d23566db-01ee-4556-8485-534918ef2f3c",
   "metadata": {},
   "outputs": [],
   "source": [
    "print(sampleset.info.get('embedding_context').get('embedding'))"
   ]
  },
  {
   "cell_type": "markdown",
   "id": "325d2c5e-e4df-45d9-aaba-77825f500622",
   "metadata": {},
   "source": [
    "Based on the embedding above, answer the following questions:\n",
    "- What is the size of the largest chain?\n",
    "- What is the size of the smallest chain?\n",
    "- Other than defining chains, what else do you notice about the embedding? What happens to the variable names `x`, `y`, and `z`?"
   ]
  }
 ],
 "metadata": {
  "kernelspec": {
   "display_name": "Python 3",
   "language": "python",
   "name": "python3"
  },
  "language_info": {
   "codemirror_mode": {
    "name": "ipython",
    "version": 3
   },
   "file_extension": ".py",
   "mimetype": "text/x-python",
   "name": "python",
   "nbconvert_exporter": "python",
   "pygments_lexer": "ipython3",
   "version": "3.7.5"
  }
 },
 "nbformat": 4,
 "nbformat_minor": 5
}
