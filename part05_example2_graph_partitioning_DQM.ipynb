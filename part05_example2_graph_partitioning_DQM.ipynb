{
 "cells": [
  {
   "cell_type": "markdown",
   "id": "148d5dae-d1dc-4a93-b3f8-3d5de1c5444d",
   "metadata": {},
   "source": [
    "# Graph partitioning\n",
    "\n",
    "The goal is to partition the nodes of a graph to sets of equal size with minimum number of edges between the sets."
   ]
  },
  {
   "cell_type": "code",
   "execution_count": 13,
   "id": "75ce64d0-03d2-4a62-949a-90f5667d1d98",
   "metadata": {},
   "outputs": [],
   "source": [
    "from dimod import DiscreteQuadraticModel, ExactDQMSolver\n",
    "from itertools import combinations\n",
    "import networkx as nx"
   ]
  },
  {
   "cell_type": "markdown",
   "id": "839bc5ff-a076-4848-adb1-6de8a6917a1f",
   "metadata": {},
   "source": [
    "# Graph partitioning with more than 2 sets"
   ]
  },
  {
   "cell_type": "code",
   "execution_count": 2,
   "id": "b8426136-86f9-4f31-800f-72af2753c92a",
   "metadata": {},
   "outputs": [
    {
     "data": {
      "image/png": "[encoded data removed]",
      "text/plain": [
       "<Figure size 432x288 with 1 Axes>"
      ]
     },
     "metadata": {},
     "output_type": "display_data"
    }
   ],
   "source": [
    "edges = [\n",
    "    (1, 2), (2, 3), (1, 3), \n",
    "    (4, 5), (5, 6), (4, 6), \n",
    "    (7, 8), (8, 9), (7, 9),\n",
    "    (2, 4), (4, 8)\n",
    "]\n",
    "nodes = sorted(set().union(*edges))\n",
    "nx.draw(nx.Graph(edges))"
   ]
  },
  {
   "cell_type": "markdown",
   "id": "18cf22af-a190-430c-be58-b290480806f5",
   "metadata": {},
   "source": [
    "# Decision variable\n",
    "- This time we assign a binary variable $x_{i,k}$ for each node i and set k. If the value is one, the node i belongs to set k."
   ]
  },
  {
   "cell_type": "code",
   "execution_count": 5,
   "id": "ad1742bf-1ac8-44eb-be73-9eef68ec9369",
   "metadata": {},
   "outputs": [],
   "source": [
    "dqm = DiscreteQuadraticModel()\n",
    "\n",
    "m = 3\n",
    "n = len(nodes)\n",
    "x = {node: dqm.add_variable(m) for node in nodes}"
   ]
  },
  {
   "cell_type": "markdown",
   "id": "c3a6915a-8f16-442a-90d1-2f0b3e0f6179",
   "metadata": {},
   "source": [
    "# Objective\n",
    "- Rather than penalizing two nodes that are not in the same set, we reward if\n",
    "    - if two nodes belong to the same set\n",
    "- the two nodes are connected"
   ]
  },
  {
   "cell_type": "code",
   "execution_count": 9,
   "id": "be3875ac-b613-435e-891a-a7a6dd1e266a",
   "metadata": {},
   "outputs": [],
   "source": [
    "for a, b in edges:\n",
    "    for k in range(m):\n",
    "        dqm.set_quadratic_case(x[a], k, x[b], k, -1)   "
   ]
  },
  {
   "cell_type": "markdown",
   "id": "ca476ece-6bd5-4986-956a-50649a9e5ed0",
   "metadata": {},
   "source": [
    "# Constraints\n",
    "\n",
    "The size of each set is the n/m\n",
    "- n is the number of nodes\n",
    "- m is the number of sets"
   ]
  },
  {
   "cell_type": "code",
   "execution_count": 10,
   "id": "24ae4ddf-4149-4ea1-bff3-b32c51d03da3",
   "metadata": {},
   "outputs": [],
   "source": [
    "for k in range(m):\n",
    "    dqm.add_linear_equality_constraint(\n",
    "        [(x[i], k, 1.0) for i in nodes],\n",
    "        constant=-n/m,\n",
    "        lagrange_multiplier=10\n",
    "    )    "
   ]
  },
  {
   "cell_type": "markdown",
   "id": "8f75cc6d-2c69-4069-9060-ebff2a0a2742",
   "metadata": {},
   "source": [
    "Each node can only belong to one set. This is naturally handled by the DQM object and all DQM solvers."
   ]
  },
  {
   "cell_type": "code",
   "execution_count": 17,
   "id": "60cc0a65-a03c-43b9-b704-8e629d4018b0",
   "metadata": {},
   "outputs": [
    {
     "name": "stdout",
     "output_type": "stream",
     "text": [
      "  0 1 2 3 4 5 6 7 8 energy num_oc.\n",
      "0 2 2 2 0 0 0 1 1 1   -9.0       1\n",
      "1 2 2 2 1 1 1 0 0 0   -9.0       1\n",
      "2 1 1 1 0 0 0 2 2 2   -9.0       1\n",
      "3 0 0 0 1 1 1 2 2 2   -9.0       1\n",
      "4 0 0 0 2 2 2 1 1 1   -9.0       1\n",
      "5 1 1 1 2 2 2 0 0 0   -9.0       1\n",
      "6 2 2 2 0 1 1 1 0 0   -6.0       1\n",
      "7 0 0 0 1 2 2 2 1 1   -6.0       1\n",
      "8 0 0 0 1 1 2 2 1 2   -6.0       1\n",
      "9 0 1 1 1 0 0 2 2 2   -6.0       1\n",
      "['DISCRETE', 10 rows, 10 samples, 9 variables]\n"
     ]
    }
   ],
   "source": [
    "res = ExactDQMSolver().sample_dqm(dqm).truncate(10)\n",
    "print(res)"
   ]
  },
  {
   "cell_type": "code",
   "execution_count": 19,
   "id": "f8069ccc-694f-4dff-a762-7f73ba73a04f",
   "metadata": {},
   "outputs": [
    {
     "data": {
      "text/plain": [
       "{0: 2, 1: 2, 2: 2, 3: 0, 4: 0, 5: 0, 6: 1, 7: 1, 8: 1}"
      ]
     },
     "execution_count": 19,
     "metadata": {},
     "output_type": "execute_result"
    }
   ],
   "source": [
    "res.first.sample"
   ]
  }
 ],
 "metadata": {
  "kernelspec": {
   "display_name": "Python 3",
   "language": "python",
   "name": "python3"
  },
  "language_info": {
   "codemirror_mode": {
    "name": "ipython",
    "version": 3
   },
   "file_extension": ".py",
   "mimetype": "text/x-python",
   "name": "python",
   "nbconvert_exporter": "python",
   "pygments_lexer": "ipython3",
   "version": "3.7.5"
  }
 },
 "nbformat": 4,
 "nbformat_minor": 5
}
