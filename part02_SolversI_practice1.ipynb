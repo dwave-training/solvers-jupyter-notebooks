{
 "cells": [
  {
   "cell_type": "markdown",
   "id": "eddb92a5-ff9d-4007-8d07-156f6e90ca34",
   "metadata": {},
   "source": [
    "# Practice set for Solvers I"
   ]
  },
  {
   "cell_type": "markdown",
   "id": "3c02161f-5126-42cb-acba-eea18730bec4",
   "metadata": {},
   "source": [
    "- Import `BinaryQuadraticModel` or `BQM`\n",
    "- Instantiate an empty BQM object with variable type `dimod.BINARY`"
   ]
  },
  {
   "cell_type": "code",
   "execution_count": 1,
   "id": "14cbdf47-158c-4a94-9cec-c40b55582569",
   "metadata": {},
   "outputs": [],
   "source": [
    "# your code here"
   ]
  },
  {
   "cell_type": "markdown",
   "id": "38d38553-1868-4e54-a8c8-6e6d7ada594d",
   "metadata": {},
   "source": [
    "- Import the ExactSolver"
   ]
  },
  {
   "cell_type": "code",
   "execution_count": 2,
   "id": "ebc0936b-c944-4993-92a9-8b4e31c0f12f",
   "metadata": {},
   "outputs": [],
   "source": [
    "# your code here"
   ]
  },
  {
   "cell_type": "markdown",
   "id": "e6bb63c4-ca1e-442c-b5ed-50b5236fa0ea",
   "metadata": {},
   "source": [
    "Add three variables `x`, `y`, and `z` to the bqm."
   ]
  },
  {
   "cell_type": "code",
   "execution_count": 3,
   "id": "85c09d03-11aa-44f3-b92c-351f372c85cf",
   "metadata": {},
   "outputs": [],
   "source": [
    "# your code here"
   ]
  },
  {
   "cell_type": "markdown",
   "id": "f3d572da-2126-4c8a-a984-5e5019d975c0",
   "metadata": {},
   "source": [
    "Add the right linear and quadratic biases using `.add_variable` and `.add_interaction` methods to add the following objective:\n",
    "\n",
    "$$H = x + y + z - 2xy - 2xz - 2yz$$"
   ]
  },
  {
   "cell_type": "code",
   "execution_count": null,
   "id": "9732f0cb-f30f-46b0-ab02-27211b70de91",
   "metadata": {},
   "outputs": [],
   "source": [
    "# your code here"
   ]
  },
  {
   "cell_type": "markdown",
   "id": "7c0248e0-5f84-4f4b-babc-b8274346ee68",
   "metadata": {},
   "source": [
    "Instantiate the exact solver. Use `.sample` method to solve the constructed bqm object. Store the results in an object called `response`"
   ]
  },
  {
   "cell_type": "code",
   "execution_count": null,
   "id": "a5ed524b-618a-441c-991c-48a2c2d91af4",
   "metadata": {},
   "outputs": [],
   "source": [
    "# your code here"
   ]
  },
  {
   "cell_type": "markdown",
   "id": "ce6f649f-e06c-4fa0-9f39-4e9e667b021c",
   "metadata": {},
   "source": [
    "Print the best solution and energy using the method `.first`. Is the solution what you expected?"
   ]
  },
  {
   "cell_type": "code",
   "execution_count": null,
   "id": "bff3dec5-b913-4605-8a43-772fb4fa0850",
   "metadata": {},
   "outputs": [],
   "source": [
    "# your code here"
   ]
  },
  {
   "cell_type": "markdown",
   "id": "943a115c-0bf1-421c-a126-7429d38ca5d5",
   "metadata": {},
   "source": [
    "Note: This part is more challenging. Only start if you have enough time.\n",
    "\n",
    "Add a new variable `w` with the bias of -1. This variable is not connected to anything. We can set it to 1 (because of the negative bias) as this will be the value in the ground state. Now let's use `FixedVariableComposite` to do the same.\n",
    "\n",
    "- Import `FixedVariableComposite`\n",
    "- Instantiate a new sampler called `composite_sampler` that is a composite of `FixedVariableComposite` and the `ExactSolver`\n",
    "- Use the new sampler to solve the problem. When you use the `.sample` method, use the argument `fixed_variables` to pass a dictionary of variables that you want to keep fixed. E.g. `{w: 1}`"
   ]
  },
  {
   "cell_type": "code",
   "execution_count": null,
   "id": "986973c7-037c-424b-ad6c-80ad435f5886",
   "metadata": {},
   "outputs": [],
   "source": [
    "# your code here"
   ]
  },
  {
   "cell_type": "markdown",
   "id": "30db46ee-1b82-4834-b76b-e37556d0d899",
   "metadata": {},
   "source": [
    "- Import `SimulatedAnnealingSampler` from dwave-neal package. You can install it using `pip install dwave-neal`\n",
    "- Instantiate the sampler\n",
    "- Sample the BQM and obtain 10 samples using the parameter `num_reads=10`\n",
    "- Compute the average energy\n",
    "- Compute the minimum energy\n",
    "- How many times the ground state was found?"
   ]
  },
  {
   "cell_type": "code",
   "execution_count": null,
   "id": "91b14ffa-9409-42bf-9b2a-d6d14fcf4277",
   "metadata": {},
   "outputs": [],
   "source": [
    "# your code here"
   ]
  },
  {
   "cell_type": "markdown",
   "id": "6b316f52-3090-4b67-813b-d0d605fb537f",
   "metadata": {},
   "source": [
    "- Sample again using 100 samples. This time set the parameter `beta_range=[0.001, 0.1]`\n",
    "- What is the average energy this time?\n",
    "- What is the minimum energy?\n",
    "- How many times the best solution found?"
   ]
  },
  {
   "cell_type": "code",
   "execution_count": null,
   "id": "ede6561f-13bc-489a-90df-2ea5661715c1",
   "metadata": {},
   "outputs": [],
   "source": [
    "# your code here"
   ]
  }
 ],
 "metadata": {
  "kernelspec": {
   "display_name": "Python 3",
   "language": "python",
   "name": "python3"
  },
  "language_info": {
   "codemirror_mode": {
    "name": "ipython",
    "version": 3
   },
   "file_extension": ".py",
   "mimetype": "text/x-python",
   "name": "python",
   "nbconvert_exporter": "python",
   "pygments_lexer": "ipython3",
   "version": "3.7.5"
  }
 },
 "nbformat": 4,
 "nbformat_minor": 5
}
