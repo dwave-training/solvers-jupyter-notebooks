{
 "cells": [
  {
   "cell_type": "markdown",
   "id": "148d5dae-d1dc-4a93-b3f8-3d5de1c5444d",
   "metadata": {},
   "source": [
    "# Graph partitioning\n",
    "\n",
    "The goal is to partition the nodes of a graph to sets of equal size with minimum number of edges between the sets."
   ]
  },
  {
   "cell_type": "code",
   "execution_count": 7,
   "id": "75ce64d0-03d2-4a62-949a-90f5667d1d98",
   "metadata": {},
   "outputs": [],
   "source": [
    "from dimod import AdjVectorBQM, ExactSolver\n",
    "from neal import SimulatedAnnealingSampler\n",
    "from itertools import combinations\n",
    "import networkx as nx"
   ]
  },
  {
   "cell_type": "markdown",
   "id": "b6140f6b-7f1f-4ea8-aa04-30bfb0a0f701",
   "metadata": {},
   "source": [
    "# Create a simple graph\n",
    "\n",
    "- Create a graph with 6 nodes\n",
    "- Partition to two sets\n",
    "- Each set should have 3 nodes\n",
    "- Each triangle should fall in one set\n",
    "- The optimal solution has only one edge connecting the two sets"
   ]
  },
  {
   "cell_type": "code",
   "execution_count": 8,
   "id": "cb51634e-947a-4d6c-b7f7-990304e6959b",
   "metadata": {},
   "outputs": [],
   "source": [
    "edges = [(1, 2), (2, 3), (1, 3), (4, 5), (5, 6), (4, 6), (2, 4)]\n",
    "nodes = sorted(set().union(*edges))"
   ]
  },
  {
   "cell_type": "code",
   "execution_count": 9,
   "id": "76de9f4d-1332-4939-b7bc-919de22ec973",
   "metadata": {},
   "outputs": [
    {
     "data": {
      "image/png": "[encoded data removed]",
      "text/plain": [
       "<Figure size 432x288 with 1 Axes>"
      ]
     },
     "metadata": {},
     "output_type": "display_data"
    }
   ],
   "source": [
    "nx.draw(nx.Graph(edges))"
   ]
  },
  {
   "cell_type": "markdown",
   "id": "53049be3-9785-40bf-9944-a999bf86fa6d",
   "metadata": {},
   "source": [
    "# Create the BQM object\n",
    "\n",
    "- Decision variable: A binary variable x_i is assigned to node i. x_i = 1 if it belongs to set 1 and if x_i = 0, it belongs to set 0.\n",
    "- Let's design an objective function for a two variable case\n",
    "    - Two connected nodes belong to the same set with no reward\n",
    "    - Two connected nodes belong to different sets with penalty\n",
    "    - Nodes that are not connected, have neither a reward nor a penalty\n",
    "\n",
    "Let's consider two nodes x_1 and x_2. The following truth table outlines the expected behavior\n",
    "\n",
    "x_1 | x_2 | quadratic bias\n",
    ":----:|:---:|:----:\n",
    "0   | 0   | 0\n",
    "0   | 1   | 1\n",
    "1   | 0   | 1\n",
    "1   | 1   | 0\n",
    "\n",
    "The equation below results in the same the values above\n",
    "\n",
    "$$x_1 + x_2 - 2 x_1 x_2$$\n",
    "\n",
    "This equation is additive, we can go over each edge in the graph and add to the objective:\n",
    "\n",
    "$$ E =\\sum_{i, j \\in Edges} (x_i + x_j - 2 x_i x_j) $$"
   ]
  },
  {
   "cell_type": "code",
   "execution_count": 10,
   "id": "59e2ddbc-d096-471b-9b79-3b2287a26714",
   "metadata": {},
   "outputs": [],
   "source": [
    "bqm = AdjVectorBQM('BINARY')\n",
    "\n",
    "x = [bqm.add_variable(node) for node in nodes]\n",
    "n = len(x)\n",
    "for a, b in edges:\n",
    "    bqm.add_variable(a, 1)\n",
    "    bqm.add_variable(b, 1)\n",
    "    bqm.add_interaction(a, b, -2)\n"
   ]
  },
  {
   "cell_type": "markdown",
   "id": "6e6d2723-1699-4d82-96f0-434918057535",
   "metadata": {},
   "source": [
    "# Constraint\n",
    "\n",
    "To ensure that the number of nodes in each set is equal, we add the following constraint:\n",
    "\n",
    "$$ \\sum_i x_i = \\sum_i (1 - x_i) $$\n",
    "\n",
    "Note that for each binary value $x_i$, it will either contribut to the left-hand-side of the equation above or the right hand side. For example $x_i = 1$ it adds to the left and if $x_i = 0$ it contributes to the right. Rearranging the equations results in: \n",
    "\n",
    "$$ \\sum_i 2 x_i - n = 0$$\n",
    "\n",
    "where $n$ is the number of nodes $n = \\sum_i 1$"
   ]
  },
  {
   "cell_type": "code",
   "execution_count": 11,
   "id": "651cbe64-582e-41d6-b5fa-564c55e66197",
   "metadata": {},
   "outputs": [],
   "source": [
    "bqm.add_linear_equality_constraint(\n",
    "    [(x[i], 2.0) for i in range(n)],\n",
    "    constant=-n,\n",
    "    lagrange_multiplier=10\n",
    ")"
   ]
  },
  {
   "cell_type": "code",
   "execution_count": 12,
   "id": "54fce657-65e2-4bcc-8ac5-803e2910fb16",
   "metadata": {},
   "outputs": [
    {
     "name": "stdout",
     "output_type": "stream",
     "text": [
      "   1  2  3  4  5  6 energy num_oc.\n",
      "0  0  0  0  1  1  1    1.0       1\n",
      "1  1  1  1  0  0  0    1.0       1\n",
      "2  1  0  1  0  1  0    4.0       1\n",
      "3  0  0  1  0  1  1    4.0       1\n",
      "4  1  0  0  0  1  1    4.0       1\n",
      "['BINARY', 5 rows, 5 samples, 6 variables]\n"
     ]
    }
   ],
   "source": [
    "print(ExactSolver().sample(bqm).truncate(5))"
   ]
  },
  {
   "cell_type": "markdown",
   "id": "839bc5ff-a076-4848-adb1-6de8a6917a1f",
   "metadata": {},
   "source": [
    "# Graph partitioning with more than 2 sets"
   ]
  },
  {
   "cell_type": "code",
   "execution_count": 13,
   "id": "b8426136-86f9-4f31-800f-72af2753c92a",
   "metadata": {},
   "outputs": [
    {
     "data": {
      "image/png": "[encoded data removed]",
      "text/plain": [
       "<Figure size 432x288 with 1 Axes>"
      ]
     },
     "metadata": {},
     "output_type": "display_data"
    }
   ],
   "source": [
    "edges = [\n",
    "    (1, 2), (2, 3), (1, 3), \n",
    "    (4, 5), (5, 6), (4, 6), \n",
    "    (7, 8), (8, 9), (7, 9),\n",
    "    (2, 4), (4, 8)\n",
    "]\n",
    "nodes = sorted(set().union(*edges))\n",
    "nx.draw(nx.Graph(edges))"
   ]
  },
  {
   "cell_type": "markdown",
   "id": "18cf22af-a190-430c-be58-b290480806f5",
   "metadata": {},
   "source": [
    "# Decision variable\n",
    "- This time we assign a binary variable $x_{i,k}$ for each node i and set k. If the value is one, the node i belongs to set k."
   ]
  },
  {
   "cell_type": "code",
   "execution_count": 20,
   "id": "ad1742bf-1ac8-44eb-be73-9eef68ec9369",
   "metadata": {},
   "outputs": [],
   "source": [
    "bqm = AdjVectorBQM('BINARY')\n",
    "\n",
    "m = 3\n",
    "n = len(nodes)\n",
    "x = {(node, k): bqm.add_variable((f'x_{node}', k))\n",
    "     for node in nodes\n",
    "     for k in range(m)}"
   ]
  },
  {
   "cell_type": "markdown",
   "id": "c3a6915a-8f16-442a-90d1-2f0b3e0f6179",
   "metadata": {},
   "source": [
    "# Objective\n",
    "- Rather than penalizing two nodes that are not in the same set, we reward if\n",
    "    - if two nodes belong to the same set\n",
    "    - two nodes are connected"
   ]
  },
  {
   "cell_type": "code",
   "execution_count": 21,
   "id": "be3875ac-b613-435e-891a-a7a6dd1e266a",
   "metadata": {},
   "outputs": [],
   "source": [
    "for a, b in edges:\n",
    "    for k in range(m):\n",
    "        bqm.add_interaction(x[a, k], x[b, k], -1)   "
   ]
  },
  {
   "cell_type": "markdown",
   "id": "ca476ece-6bd5-4986-956a-50649a9e5ed0",
   "metadata": {},
   "source": [
    "# Constraints\n",
    "\n",
    "The size of each set is the n/m\n",
    "- n is the number of nodes\n",
    "- m is the number of sets"
   ]
  },
  {
   "cell_type": "code",
   "execution_count": 22,
   "id": "24ae4ddf-4149-4ea1-bff3-b32c51d03da3",
   "metadata": {},
   "outputs": [],
   "source": [
    "for k in range(m):\n",
    "    bqm.add_linear_equality_constraint(\n",
    "        [(x[i, k], 1.0) for i in nodes],\n",
    "        constant=-n/m,\n",
    "        lagrange_multiplier=10\n",
    "    )    "
   ]
  },
  {
   "cell_type": "markdown",
   "id": "8f75cc6d-2c69-4069-9060-ebff2a0a2742",
   "metadata": {},
   "source": [
    "Each node can only belong to one set."
   ]
  },
  {
   "cell_type": "code",
   "execution_count": 23,
   "id": "8204a1ba-8db5-4ee7-affe-00671197a5f7",
   "metadata": {},
   "outputs": [],
   "source": [
    "for node in nodes:\n",
    "    bqm.add_linear_equality_constraint(\n",
    "        [(x[node, k], 1.0) for k in range(m)],\n",
    "        constant=-1.0,\n",
    "        lagrange_multiplier=10\n",
    "    )"
   ]
  },
  {
   "cell_type": "code",
   "execution_count": 24,
   "id": "60cc0a65-a03c-43b9-b704-8e629d4018b0",
   "metadata": {},
   "outputs": [
    {
     "name": "stdout",
     "output_type": "stream",
     "text": [
      "  ('x_1', 0) ('x_1', 1) ('x_1', 2) ('x_2', 0) ... ('x_9', 2) energy num_oc.\n",
      "0          0          1          0          0 ...          0   -9.0       1\n",
      "1          1          0          0          1 ...          1   -9.0       1\n",
      "2          0          1          0          0 ...          0   -9.0       1\n",
      "['BINARY', 3 rows, 3 samples, 27 variables]\n"
     ]
    }
   ],
   "source": [
    "res = SimulatedAnnealingSampler().sample(bqm, num_reads=100, num_sweeps=10000).truncate(3)\n",
    "print(res)"
   ]
  },
  {
   "cell_type": "code",
   "execution_count": 26,
   "id": "f8069ccc-694f-4dff-a762-7f73ba73a04f",
   "metadata": {},
   "outputs": [
    {
     "name": "stdout",
     "output_type": "stream",
     "text": [
      "{'x_1': 1, 'x_2': 1, 'x_3': 1, 'x_4': 2, 'x_5': 2, 'x_6': 2, 'x_7': 0, 'x_8': 0, 'x_9': 0}\n"
     ]
    }
   ],
   "source": [
    "print({variable: set_assignment for (variable, set_assignment), v in res.first.sample.items() if v})"
   ]
  }
 ],
 "metadata": {
  "kernelspec": {
   "display_name": "Python 3",
   "language": "python",
   "name": "python3"
  },
  "language_info": {
   "codemirror_mode": {
    "name": "ipython",
    "version": 3
   },
   "file_extension": ".py",
   "mimetype": "text/x-python",
   "name": "python",
   "nbconvert_exporter": "python",
   "pygments_lexer": "ipython3",
   "version": "3.7.5"
  }
 },
 "nbformat": 4,
 "nbformat_minor": 5
}
