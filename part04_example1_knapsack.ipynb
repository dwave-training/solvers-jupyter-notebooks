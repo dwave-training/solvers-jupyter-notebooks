{
 "cells": [
  {
   "cell_type": "markdown",
   "id": "e60e3992-b60a-46fb-980a-07c8f08398de",
   "metadata": {},
   "source": [
    "# Knapsack example\n",
    "\n",
    "- Maximize the total value of the items in the knapsack\n",
    "- Stay within the capacity of the knapsack\n",
    "- Each item has a value, weight, and a volume\n",
    "- The knapsack has both weight and volume capacity"
   ]
  },
  {
   "cell_type": "code",
   "execution_count": null,
   "id": "507fe866-e280-48fd-b009-afc44d23fa0c",
   "metadata": {},
   "outputs": [],
   "source": [
    "values = [1, 2, 3, 4]\n",
    "weights = [2, 2, 3, 3]\n",
    "volumes = [3, 3, 2, 2]\n",
    "n = 4\n",
    "variables = list(range(n))\n",
    "max_weight = 4\n",
    "max_volume = 6\n",
    "\n",
    "penalty_strength_weight = 20\n",
    "penalty_strength_volume = 20"
   ]
  },
  {
   "cell_type": "markdown",
   "id": "f21e3774-c5e8-4195-881a-51e8b17ce930",
   "metadata": {},
   "source": [
    "# Create the BQM model\n",
    "Decision variable is binary variable $x_i$ for each item $i$. If $x_i=1$, then item $i$ is in the knapsack, zero otherwise.\n",
    "\n",
    "The coefficient of the variable is the negative of its value to account for the fact that we minimize the objective.\n",
    "\n",
    "\n",
    "x_1 | x_2 | x_3 | x_4 | total value | total weight | total volume | feasible|\n",
    ":----:|:---:|:----:|:----:|:----:|:-----:|:-----:|:------:\n",
    "1   | 0   |0   | 0   | 1  | 2  | 3  |   True\n",
    "0   | 1   |0   | 0   | 2  | 2  | 3  |   True\n",
    "0   | 0   |1   | 0   | 3  | 3  | 2  |   True\n",
    "**0**   | **0**   |**0**   | **1**   | **4**  | **3**  | **2**  |   **True**\n",
    "0   | 0   |1   | 1   | 7  | 6  | 4  |   False\n",
    "1   | 1   |0   | 0   | 3  | 4  | 6  |   True"
   ]
  },
  {
   "cell_type": "code",
   "execution_count": null,
   "id": "2263231a-9699-4e70-9268-41580d40f3aa",
   "metadata": {},
   "outputs": [],
   "source": [
    "from dimod.binary import BinaryQuadraticModel\n",
    "\n",
    "bqm = BinaryQuadraticModel('BINARY')\n",
    "\n",
    "variables = [bqm.add_variable(f'x_{v}', -values[v]) for v in variables]"
   ]
  },
  {
   "cell_type": "markdown",
   "id": "8354daf4-dc45-4842-815a-db3257e6bb00",
   "metadata": {},
   "source": [
    "Add the capacity constraint as a linear inequality term."
   ]
  },
  {
   "cell_type": "code",
   "execution_count": null,
   "id": "e8887804-c44f-469e-a5c5-f86ff223ea50",
   "metadata": {},
   "outputs": [],
   "source": [
    "slacks_weight = bqm.add_linear_inequality_constraint(\n",
    "    [(x, w) for x, w in zip(variables, weights)],\n",
    "    constant=-max_weight,\n",
    "    lagrange_multiplier=penalty_strength_weight,\n",
    "    label='capacity'\n",
    ")"
   ]
  },
  {
   "cell_type": "markdown",
   "id": "02875da2-f2ef-4135-a6e6-fdefc4e5fcbe",
   "metadata": {},
   "source": [
    "Similarly we define a set of slack variables for the volume capacity constraint."
   ]
  },
  {
   "cell_type": "code",
   "execution_count": null,
   "id": "40a49052-c41d-47b7-be19-3499f1868eba",
   "metadata": {},
   "outputs": [],
   "source": [
    "slacks_volume = bqm.add_linear_inequality_constraint(\n",
    "    [(x, v) for x, v in zip(variables, volumes)],\n",
    "    constant=-max_volume,\n",
    "    lagrange_multiplier=penalty_strength_volume,\n",
    "    label='volume_capacity'\n",
    ")"
   ]
  },
  {
   "cell_type": "markdown",
   "id": "59ba3f88-0e23-4169-a2a9-0e459d5e5884",
   "metadata": {},
   "source": [
    "For a small problem with less than 20 items, we can solve the QUBO exactly by enumerating all solutions."
   ]
  },
  {
   "cell_type": "code",
   "execution_count": null,
   "id": "226cbcbd-4f28-4820-a724-55e7a40eb245",
   "metadata": {},
   "outputs": [],
   "source": [
    "from dimod import ExactSolver\n",
    "\n",
    "response = ExactSolver().sample(bqm)\n",
    "samples = response.samples()\n",
    "best_solution = response.first.sample\n",
    "print(response.truncate(5))"
   ]
  },
  {
   "cell_type": "markdown",
   "id": "05440789-de42-4964-95f1-91d5c56ed285",
   "metadata": {},
   "source": [
    "Let's take a closer look at the solution.\n",
    "\n",
    "- The main variables specify the knapsack assginment.\n",
    "- The first set of slack variables show that the total weight of the selected items is 1 unit less than the weight capacity of the knapsack\n",
    "- The second set of slack variables show that the total volume of the selected items is 1 unit less than the volume capacity of the knapsack"
   ]
  },
  {
   "cell_type": "code",
   "execution_count": null,
   "id": "f4846a13-9571-414a-b34c-46cc33d5551e",
   "metadata": {},
   "outputs": [],
   "source": [
    "print({k: v for k, v in best_solution.items() if k in variables})\n",
    "print({k: v for k, v in best_solution.items() if k in {v for v, _ in slacks_weight}})\n",
    "print({k: v for k, v in best_solution.items() if k in {v for v, _ in slacks_volume}})"
   ]
  },
  {
   "cell_type": "code",
   "execution_count": null,
   "id": "ac6f0029-b23d-4c5a-8b78-ea649662bdcd",
   "metadata": {},
   "outputs": [],
   "source": [
    "def violations(sample, slack_variables, array, capacity):\n",
    "    slack_total_weight = 0\n",
    "    weight = 0\n",
    "    for i, (v, c) in enumerate(slack_variables):\n",
    "        slack_total_weight += sample[v] * c\n",
    "    for i, v in enumerate(variables):\n",
    "        weight += array[i] * sample[v]\n",
    "    print('Total of items: ', weight)\n",
    "    print('Total slack value: ', slack_total_weight)\n",
    "    print('Left hand side: ', weight + slack_total_weight)\n",
    "    print('Satisfied? ', weight + slack_total_weight <= capacity)\n",
    "    "
   ]
  },
  {
   "cell_type": "code",
   "execution_count": null,
   "id": "e78d4e27-fdbe-49ab-925f-93c2393797c1",
   "metadata": {},
   "outputs": [],
   "source": [
    "print('Weight capacity constraint:')\n",
    "violations(samples[0], slacks_weight, weights, max_weight)\n",
    "print('Volume capacity constraint:')\n",
    "violations(samples[0], slacks_volume, volumes, max_volume)"
   ]
  }
 ],
 "metadata": {
  "kernelspec": {
   "display_name": "Python 3",
   "language": "python",
   "name": "python3"
  },
  "language_info": {
   "codemirror_mode": {
    "name": "ipython",
    "version": 3
   },
   "file_extension": ".py",
   "mimetype": "text/x-python",
   "name": "python",
   "nbconvert_exporter": "python",
   "pygments_lexer": "ipython3",
   "version": "3.7.5"
  }
 },
 "nbformat": 4,
 "nbformat_minor": 5
}
