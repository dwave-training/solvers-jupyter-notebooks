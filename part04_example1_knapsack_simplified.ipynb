{
 "cells": [
  {
   "cell_type": "markdown",
   "id": "e60e3992-b60a-46fb-980a-07c8f08398de",
   "metadata": {},
   "source": [
    "# Knapsack example\n",
    "\n",
    "- Maximize the value of the items\n",
    "- Stay within the capacity of the knapsack\n",
    "- Each item has a value, weight, and a volume\n",
    "- The knapsack has both weight and volume capacity"
   ]
  },
  {
   "cell_type": "code",
   "execution_count": 1,
   "id": "507fe866-e280-48fd-b009-afc44d23fa0c",
   "metadata": {},
   "outputs": [],
   "source": [
    "values = [1, 2, 3, 4]\n",
    "weights = [2, 2, 3, 3]\n",
    "volumes = [3, 3, 2, 2]\n",
    "n = 4\n",
    "variables = list(range(n))\n",
    "max_weight = 4\n",
    "max_volume = 6\n",
    "\n",
    "penalty_strength_weight = 20\n",
    "penalty_strength_volume = 20"
   ]
  },
  {
   "cell_type": "markdown",
   "id": "f21e3774-c5e8-4195-881a-51e8b17ce930",
   "metadata": {},
   "source": [
    "# Create the BQM model\n",
    "Decision variable is binary variable $x$ for each item. If $x=1$, the item is in the knapsack, zero otherwise.\n",
    "\n",
    "The coefficient of the variable is the negative of its value to account for the fact that we minimize the objective."
   ]
  },
  {
   "cell_type": "code",
   "execution_count": 4,
   "id": "2263231a-9699-4e70-9268-41580d40f3aa",
   "metadata": {},
   "outputs": [],
   "source": [
    "from dimod.binary import BinaryQuadraticModel\n",
    "\n",
    "bqm = BinaryQuadraticModel('BINARY')\n",
    "\n",
    "variables = [bqm.add_variable(f'x_{v}', -values[v]) for v in variables]"
   ]
  },
  {
   "cell_type": "markdown",
   "id": "8354daf4-dc45-4842-815a-db3257e6bb00",
   "metadata": {},
   "source": [
    "Add the capacity constraint as a linear inequality term."
   ]
  },
  {
   "cell_type": "code",
   "execution_count": 12,
   "id": "e8887804-c44f-469e-a5c5-f86ff223ea50",
   "metadata": {},
   "outputs": [],
   "source": [
    "slacks_weight = bqm.add_linear_inequality_constraint(\n",
    "    [(x, w) for x, w in zip(variables, weights)],\n",
    "    constant=-max_weight,\n",
    "    lagrange_multiplier=penalty_strength_weight,\n",
    "    label='capacity'\n",
    ")"
   ]
  },
  {
   "cell_type": "markdown",
   "id": "02875da2-f2ef-4135-a6e6-fdefc4e5fcbe",
   "metadata": {},
   "source": [
    "Similarly we define a set of slack variables for the volume capacity constraint."
   ]
  },
  {
   "cell_type": "code",
   "execution_count": 11,
   "id": "40a49052-c41d-47b7-be19-3499f1868eba",
   "metadata": {},
   "outputs": [],
   "source": [
    "slacks_volume = bqm.add_linear_inequality_constraint(\n",
    "    [(x, v) for x, v in zip(variables, volumes)],\n",
    "    constant=-max_volume,\n",
    "    lagrange_multiplier=penalty_strength_volume,\n",
    "    label='volume_capacity'\n",
    ")"
   ]
  },
  {
   "cell_type": "markdown",
   "id": "59ba3f88-0e23-4169-a2a9-0e459d5e5884",
   "metadata": {},
   "source": [
    "For a small problem with less than 20 items, we can solve the QUBO exactly by enumerating all solutions."
   ]
  },
  {
   "cell_type": "code",
   "execution_count": 9,
   "id": "226cbcbd-4f28-4820-a724-55e7a40eb245",
   "metadata": {},
   "outputs": [
    {
     "name": "stdout",
     "output_type": "stream",
     "text": [
      "  slack_capacity_0 slack_capacity_1 slack_capacity_2 ... x_3 energy num_oc.\n",
      "0                1                0                0 ...   1   -4.0       1\n",
      "1                0                0                1 ...   1   -4.0       1\n",
      "2                0                0                0 ...   0   -3.0       1\n",
      "3                1                0                0 ...   0   -3.0       1\n",
      "4                0                0                1 ...   0   -3.0       1\n",
      "['BINARY', 5 rows, 5 samples, 10 variables]\n"
     ]
    }
   ],
   "source": [
    "from dimod import ExactSolver\n",
    "\n",
    "response = ExactSolver().sample(bqm)\n",
    "samples = response.samples()\n",
    "best_solution = response.first.sample\n",
    "print(response.truncate(5))"
   ]
  },
  {
   "cell_type": "markdown",
   "id": "05440789-de42-4964-95f1-91d5c56ed285",
   "metadata": {},
   "source": [
    "Let's take a closer look at the solution.\n",
    "\n",
    "- The main variables specify the knapsack assginment.\n",
    "- The first set of slack variables show that the total weight of items is 1 unit less than the capacity\n",
    "- The second set of slack variables show that the total volumeight of items is 1 unit less than the capacity"
   ]
  },
  {
   "cell_type": "code",
   "execution_count": 17,
   "id": "f4846a13-9571-414a-b34c-46cc33d5551e",
   "metadata": {},
   "outputs": [
    {
     "name": "stdout",
     "output_type": "stream",
     "text": [
      "{'x_0': 0, 'x_1': 0, 'x_2': 0, 'x_3': 1}\n",
      "{'slack_capacity_0': 1, 'slack_capacity_1': 0, 'slack_capacity_2': 0}\n",
      "{'slack_volume_capacity_0': 1, 'slack_volume_capacity_1': 0, 'slack_volume_capacity_2': 1}\n"
     ]
    }
   ],
   "source": [
    "print({k: v for k, v in best_solution.items() if k in variables})\n",
    "print({k: v for k, v in best_solution.items() if k in {v for v, _ in slacks_weight}})\n",
    "print({k: v for k, v in best_solution.items() if k in {v for v, _ in slacks_volume}})"
   ]
  },
  {
   "cell_type": "code",
   "execution_count": 18,
   "id": "ac6f0029-b23d-4c5a-8b78-ea649662bdcd",
   "metadata": {},
   "outputs": [],
   "source": [
    "def violations(sample, slack_variables, array, capacity):\n",
    "    slack_total_weight = 0\n",
    "    weight = 0\n",
    "    for i, v in enumerate(slack_variables):\n",
    "        slack_total_weight += sample[v] * 2 ** i\n",
    "    for i, v in enumerate(variables):\n",
    "        weight += array[i] * sample[v]\n",
    "    print('Total of items: ', weight)\n",
    "    print('Total slack value: ', slack_total_weight)\n",
    "    print('Left hand side: ', weight + slack_total_weight)\n",
    "    print('Satisfied? ', weight + slack_total_weight <= capacity)\n",
    "    "
   ]
  },
  {
   "cell_type": "code",
   "execution_count": 19,
   "id": "e78d4e27-fdbe-49ab-925f-93c2393797c1",
   "metadata": {},
   "outputs": [
    {
     "name": "stdout",
     "output_type": "stream",
     "text": [
      "Weight capacity constraint:\n"
     ]
    },
    {
     "ename": "ValueError",
     "evalue": "unknown variable ('slack_capacity_0', 1)",
     "output_type": "error",
     "traceback": [
      "\u001b[0;31m---------------------------------------------------------------------------\u001b[0m",
      "\u001b[0;31mValueError\u001b[0m                                Traceback (most recent call last)",
      "\u001b[0;32m<ipython-input-19-11eeaae0bb36>\u001b[0m in \u001b[0;36m<module>\u001b[0;34m\u001b[0m\n\u001b[1;32m      1\u001b[0m \u001b[0mprint\u001b[0m\u001b[0;34m(\u001b[0m\u001b[0;34m'Weight capacity constraint:'\u001b[0m\u001b[0;34m)\u001b[0m\u001b[0;34m\u001b[0m\u001b[0;34m\u001b[0m\u001b[0m\n\u001b[0;32m----> 2\u001b[0;31m \u001b[0mviolations\u001b[0m\u001b[0;34m(\u001b[0m\u001b[0msamples\u001b[0m\u001b[0;34m[\u001b[0m\u001b[0;36m0\u001b[0m\u001b[0;34m]\u001b[0m\u001b[0;34m,\u001b[0m \u001b[0mslacks_weight\u001b[0m\u001b[0;34m,\u001b[0m \u001b[0mweights\u001b[0m\u001b[0;34m,\u001b[0m \u001b[0mmax_weight\u001b[0m\u001b[0;34m)\u001b[0m\u001b[0;34m\u001b[0m\u001b[0;34m\u001b[0m\u001b[0m\n\u001b[0m\u001b[1;32m      3\u001b[0m \u001b[0mprint\u001b[0m\u001b[0;34m(\u001b[0m\u001b[0;34m'Volume capacity constraint:'\u001b[0m\u001b[0;34m)\u001b[0m\u001b[0;34m\u001b[0m\u001b[0;34m\u001b[0m\u001b[0m\n\u001b[1;32m      4\u001b[0m \u001b[0mviolations\u001b[0m\u001b[0;34m(\u001b[0m\u001b[0msamples\u001b[0m\u001b[0;34m[\u001b[0m\u001b[0;36m0\u001b[0m\u001b[0;34m]\u001b[0m\u001b[0;34m,\u001b[0m \u001b[0mslacks_volume\u001b[0m\u001b[0;34m,\u001b[0m \u001b[0mvolumes\u001b[0m\u001b[0;34m,\u001b[0m \u001b[0mmax_volume\u001b[0m\u001b[0;34m)\u001b[0m\u001b[0;34m\u001b[0m\u001b[0;34m\u001b[0m\u001b[0m\n",
      "\u001b[0;32m<ipython-input-18-8bc9c3a2896d>\u001b[0m in \u001b[0;36mviolations\u001b[0;34m(sample, slack_variables, array, capacity)\u001b[0m\n\u001b[1;32m      3\u001b[0m     \u001b[0mweight\u001b[0m \u001b[0;34m=\u001b[0m \u001b[0;36m0\u001b[0m\u001b[0;34m\u001b[0m\u001b[0;34m\u001b[0m\u001b[0m\n\u001b[1;32m      4\u001b[0m     \u001b[0;32mfor\u001b[0m \u001b[0mi\u001b[0m\u001b[0;34m,\u001b[0m \u001b[0mv\u001b[0m \u001b[0;32min\u001b[0m \u001b[0menumerate\u001b[0m\u001b[0;34m(\u001b[0m\u001b[0mslack_variables\u001b[0m\u001b[0;34m)\u001b[0m\u001b[0;34m:\u001b[0m\u001b[0;34m\u001b[0m\u001b[0;34m\u001b[0m\u001b[0m\n\u001b[0;32m----> 5\u001b[0;31m         \u001b[0mslack_total_weight\u001b[0m \u001b[0;34m+=\u001b[0m \u001b[0msample\u001b[0m\u001b[0;34m[\u001b[0m\u001b[0mv\u001b[0m\u001b[0;34m]\u001b[0m \u001b[0;34m*\u001b[0m \u001b[0;36m2\u001b[0m \u001b[0;34m**\u001b[0m \u001b[0mi\u001b[0m\u001b[0;34m\u001b[0m\u001b[0;34m\u001b[0m\u001b[0m\n\u001b[0m\u001b[1;32m      6\u001b[0m     \u001b[0;32mfor\u001b[0m \u001b[0mi\u001b[0m\u001b[0;34m,\u001b[0m \u001b[0mv\u001b[0m \u001b[0;32min\u001b[0m \u001b[0menumerate\u001b[0m\u001b[0;34m(\u001b[0m\u001b[0mvariables\u001b[0m\u001b[0;34m)\u001b[0m\u001b[0;34m:\u001b[0m\u001b[0;34m\u001b[0m\u001b[0;34m\u001b[0m\u001b[0m\n\u001b[1;32m      7\u001b[0m         \u001b[0mweight\u001b[0m \u001b[0;34m+=\u001b[0m \u001b[0marray\u001b[0m\u001b[0;34m[\u001b[0m\u001b[0mi\u001b[0m\u001b[0;34m]\u001b[0m \u001b[0;34m*\u001b[0m \u001b[0msample\u001b[0m\u001b[0;34m[\u001b[0m\u001b[0mv\u001b[0m\u001b[0;34m]\u001b[0m\u001b[0;34m\u001b[0m\u001b[0;34m\u001b[0m\u001b[0m\n",
      "\u001b[0;32m~/project/CDL_Training/venv/envs/lib/python3.7/site-packages/dimod-0.10.0.dev5-py3.7-linux-x86_64.egg/dimod/views/samples.py\u001b[0m in \u001b[0;36m__getitem__\u001b[0;34m(self, v)\u001b[0m\n\u001b[1;32m     29\u001b[0m \u001b[0;34m\u001b[0m\u001b[0m\n\u001b[1;32m     30\u001b[0m     \u001b[0;32mdef\u001b[0m \u001b[0m__getitem__\u001b[0m\u001b[0;34m(\u001b[0m\u001b[0mself\u001b[0m\u001b[0;34m,\u001b[0m \u001b[0mv\u001b[0m\u001b[0;34m)\u001b[0m\u001b[0;34m:\u001b[0m\u001b[0;34m\u001b[0m\u001b[0;34m\u001b[0m\u001b[0m\n\u001b[0;32m---> 31\u001b[0;31m         \u001b[0;32mreturn\u001b[0m \u001b[0mself\u001b[0m\u001b[0;34m.\u001b[0m\u001b[0m_data\u001b[0m\u001b[0;34m[\u001b[0m\u001b[0mself\u001b[0m\u001b[0;34m.\u001b[0m\u001b[0m_variables\u001b[0m\u001b[0;34m.\u001b[0m\u001b[0mindex\u001b[0m\u001b[0;34m(\u001b[0m\u001b[0mv\u001b[0m\u001b[0;34m)\u001b[0m\u001b[0;34m]\u001b[0m\u001b[0;34m\u001b[0m\u001b[0;34m\u001b[0m\u001b[0m\n\u001b[0m\u001b[1;32m     32\u001b[0m \u001b[0;34m\u001b[0m\u001b[0m\n\u001b[1;32m     33\u001b[0m     \u001b[0;32mdef\u001b[0m \u001b[0m__iter__\u001b[0m\u001b[0;34m(\u001b[0m\u001b[0mself\u001b[0m\u001b[0;34m)\u001b[0m\u001b[0;34m:\u001b[0m\u001b[0;34m\u001b[0m\u001b[0;34m\u001b[0m\u001b[0m\n",
      "\u001b[0;32m~/project/CDL_Training/venv/envs/lib/python3.7/site-packages/dimod-0.10.0.dev5-py3.7-linux-x86_64.egg/dimod/cyvariables.pyx\u001b[0m in \u001b[0;36mdimod.cyvariables.cyVariables.index\u001b[0;34m()\u001b[0m\n",
      "\u001b[0;32m~/project/CDL_Training/venv/envs/lib/python3.7/site-packages/dimod-0.10.0.dev5-py3.7-linux-x86_64.egg/dimod/cyvariables.pyx\u001b[0m in \u001b[0;36mdimod.cyvariables.cyVariables.index\u001b[0;34m()\u001b[0m\n",
      "\u001b[0;31mValueError\u001b[0m: unknown variable ('slack_capacity_0', 1)"
     ]
    }
   ],
   "source": [
    "print('Weight capacity constraint:')\n",
    "violations(samples[0], slacks_weight, weights, max_weight)\n",
    "print('Volume capacity constraint:')\n",
    "violations(samples[0], slacks_volume, volumes, max_volume)"
   ]
  }
 ],
 "metadata": {
  "kernelspec": {
   "display_name": "Python 3",
   "language": "python",
   "name": "python3"
  },
  "language_info": {
   "codemirror_mode": {
    "name": "ipython",
    "version": 3
   },
   "file_extension": ".py",
   "mimetype": "text/x-python",
   "name": "python",
   "nbconvert_exporter": "python",
   "pygments_lexer": "ipython3",
   "version": "3.7.5"
  }
 },
 "nbformat": 4,
 "nbformat_minor": 5
}
